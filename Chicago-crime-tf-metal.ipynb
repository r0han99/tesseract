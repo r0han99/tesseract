{
 "cells": [
  {
   "cell_type": "code",
   "execution_count": 1,
   "id": "99cb3260",
   "metadata": {},
   "outputs": [
    {
     "name": "stdout",
     "output_type": "stream",
     "text": [
      "tf Metal GPU:  Available\n"
     ]
    }
   ],
   "source": [
    "import pandas as pd\n",
    "import tensorflow as tf\n",
    "from tensorflow import keras\n",
    "import numpy as np\n",
    "import seaborn as sns \n",
    "import matplotlib.pyplot as plt\n",
    "\n",
    "sns.set_style(\"whitegrid\")\n",
    "gpu = tf.config.list_physical_devices('GPU')\n",
    "print(f\"tf Metal GPU: \", \"Available\" if gpu else \"Not Available\")"
   ]
  },
  {
   "cell_type": "code",
   "execution_count": 2,
   "id": "f0e8518a",
   "metadata": {},
   "outputs": [
    {
     "name": "stdout",
     "output_type": "stream",
     "text": [
      "Requirement already satisfied: imblearn in /Users/rohan/miniconda3/envs/tf-metal/lib/python3.10/site-packages (0.0)\n",
      "Requirement already satisfied: imbalanced-learn in /Users/rohan/miniconda3/envs/tf-metal/lib/python3.10/site-packages (from imblearn) (0.10.1)\n",
      "Requirement already satisfied: numpy>=1.17.3 in /Users/rohan/miniconda3/envs/tf-metal/lib/python3.10/site-packages (from imbalanced-learn->imblearn) (1.23.5)\n",
      "Requirement already satisfied: scipy>=1.3.2 in /Users/rohan/miniconda3/envs/tf-metal/lib/python3.10/site-packages (from imbalanced-learn->imblearn) (1.10.1)\n",
      "Requirement already satisfied: scikit-learn>=1.0.2 in /Users/rohan/miniconda3/envs/tf-metal/lib/python3.10/site-packages (from imbalanced-learn->imblearn) (1.2.2)\n",
      "Requirement already satisfied: joblib>=1.1.1 in /Users/rohan/miniconda3/envs/tf-metal/lib/python3.10/site-packages (from imbalanced-learn->imblearn) (1.2.0)\n",
      "Requirement already satisfied: threadpoolctl>=2.0.0 in /Users/rohan/miniconda3/envs/tf-metal/lib/python3.10/site-packages (from imbalanced-learn->imblearn) (3.1.0)\n"
     ]
    }
   ],
   "source": [
    "! pip install imblearn"
   ]
  },
  {
   "cell_type": "code",
   "execution_count": 3,
   "id": "1ce90326",
   "metadata": {},
   "outputs": [
    {
     "name": "stdout",
     "output_type": "stream",
     "text": [
      "\u001b[34mArchive\u001b[m\u001b[m                      crime_cleaned_v1.csv\r\n",
      "Chicago-Crimes-2018-2022.csv crime_cleaned_v2.csv\r\n",
      "chicago_police_IUCR.csv      crime_cleaned_v3.csv\r\n",
      "cities.json                  crimes_binary_v1.csv\r\n",
      "crime+race.csv\r\n"
     ]
    }
   ],
   "source": [
    "! ls ./Crime+Corpus/"
   ]
  },
  {
   "cell_type": "code",
   "execution_count": 4,
   "id": "1da83191",
   "metadata": {},
   "outputs": [
    {
     "data": {
      "text/html": [
       "<div>\n",
       "<style scoped>\n",
       "    .dataframe tbody tr th:only-of-type {\n",
       "        vertical-align: middle;\n",
       "    }\n",
       "\n",
       "    .dataframe tbody tr th {\n",
       "        vertical-align: top;\n",
       "    }\n",
       "\n",
       "    .dataframe thead th {\n",
       "        text-align: right;\n",
       "    }\n",
       "</style>\n",
       "<table border=\"1\" class=\"dataframe\">\n",
       "  <thead>\n",
       "    <tr style=\"text-align: right;\">\n",
       "      <th></th>\n",
       "      <th>ID</th>\n",
       "      <th>Case Number</th>\n",
       "      <th>Date</th>\n",
       "      <th>Block</th>\n",
       "      <th>IUCR</th>\n",
       "      <th>Primary Type</th>\n",
       "      <th>Description</th>\n",
       "      <th>Location Description</th>\n",
       "      <th>Arrest</th>\n",
       "      <th>Domestic</th>\n",
       "      <th>...</th>\n",
       "      <th>Updated On</th>\n",
       "      <th>Latitude</th>\n",
       "      <th>Longitude</th>\n",
       "      <th>Location</th>\n",
       "      <th>Community Area Name</th>\n",
       "      <th>Dristrict-Name</th>\n",
       "      <th>SocioEconomic-Status</th>\n",
       "      <th>Hour</th>\n",
       "      <th>Day</th>\n",
       "      <th>Month</th>\n",
       "    </tr>\n",
       "  </thead>\n",
       "  <tbody>\n",
       "    <tr>\n",
       "      <th>0</th>\n",
       "      <td>11515814</td>\n",
       "      <td>JB527247</td>\n",
       "      <td>2018-01-01 01:00:00</td>\n",
       "      <td>023XX S HOMAN AVE</td>\n",
       "      <td>0560</td>\n",
       "      <td>ASSAULT</td>\n",
       "      <td>SIMPLE</td>\n",
       "      <td>APARTMENT</td>\n",
       "      <td>False</td>\n",
       "      <td>False</td>\n",
       "      <td>...</td>\n",
       "      <td>11/28/2018 04:14:58 PM</td>\n",
       "      <td>41.849030</td>\n",
       "      <td>-87.710045</td>\n",
       "      <td>(41.849030217, -87.710044807)</td>\n",
       "      <td>South Lawndale</td>\n",
       "      <td>Ogden</td>\n",
       "      <td>High Income</td>\n",
       "      <td>1</td>\n",
       "      <td>1</td>\n",
       "      <td>1</td>\n",
       "    </tr>\n",
       "    <tr>\n",
       "      <th>1</th>\n",
       "      <td>11210595</td>\n",
       "      <td>JB125173</td>\n",
       "      <td>2018-01-01 01:00:00</td>\n",
       "      <td>007XX W GRACE ST</td>\n",
       "      <td>0890</td>\n",
       "      <td>THEFT</td>\n",
       "      <td>FROM BUILDING</td>\n",
       "      <td>APARTMENT</td>\n",
       "      <td>False</td>\n",
       "      <td>False</td>\n",
       "      <td>...</td>\n",
       "      <td>05/04/2018 03:51:04 PM</td>\n",
       "      <td>41.951457</td>\n",
       "      <td>-87.648582</td>\n",
       "      <td>(41.951457303, -87.648582038)</td>\n",
       "      <td>Lake View</td>\n",
       "      <td>Town Hall</td>\n",
       "      <td>Low Income</td>\n",
       "      <td>1</td>\n",
       "      <td>1</td>\n",
       "      <td>1</td>\n",
       "    </tr>\n",
       "    <tr>\n",
       "      <th>2</th>\n",
       "      <td>11205233</td>\n",
       "      <td>JB117580</td>\n",
       "      <td>2018-01-01 01:00:00</td>\n",
       "      <td>006XX W HUTCHINSON ST</td>\n",
       "      <td>0281</td>\n",
       "      <td>CRIM SEXUAL ASSAULT</td>\n",
       "      <td>NON-AGGRAVATED</td>\n",
       "      <td>RESIDENCE</td>\n",
       "      <td>False</td>\n",
       "      <td>True</td>\n",
       "      <td>...</td>\n",
       "      <td>05/04/2018 03:51:04 PM</td>\n",
       "      <td>41.959354</td>\n",
       "      <td>-87.646931</td>\n",
       "      <td>(41.95935351, -87.64693126)</td>\n",
       "      <td>Uptown</td>\n",
       "      <td>Town Hall</td>\n",
       "      <td>Moderate Income</td>\n",
       "      <td>1</td>\n",
       "      <td>1</td>\n",
       "      <td>1</td>\n",
       "    </tr>\n",
       "  </tbody>\n",
       "</table>\n",
       "<p>3 rows × 28 columns</p>\n",
       "</div>"
      ],
      "text/plain": [
       "         ID Case Number                 Date                  Block  IUCR   \n",
       "0  11515814    JB527247  2018-01-01 01:00:00      023XX S HOMAN AVE  0560  \\\n",
       "1  11210595    JB125173  2018-01-01 01:00:00       007XX W GRACE ST  0890   \n",
       "2  11205233    JB117580  2018-01-01 01:00:00  006XX W HUTCHINSON ST  0281   \n",
       "\n",
       "          Primary Type     Description Location Description  Arrest  Domestic   \n",
       "0              ASSAULT          SIMPLE            APARTMENT   False     False  \\\n",
       "1                THEFT   FROM BUILDING            APARTMENT   False     False   \n",
       "2  CRIM SEXUAL ASSAULT  NON-AGGRAVATED            RESIDENCE   False      True   \n",
       "\n",
       "   ...              Updated On   Latitude  Longitude   \n",
       "0  ...  11/28/2018 04:14:58 PM  41.849030 -87.710045  \\\n",
       "1  ...  05/04/2018 03:51:04 PM  41.951457 -87.648582   \n",
       "2  ...  05/04/2018 03:51:04 PM  41.959354 -87.646931   \n",
       "\n",
       "                        Location Community Area Name  Dristrict-Name   \n",
       "0  (41.849030217, -87.710044807)      South Lawndale           Ogden  \\\n",
       "1  (41.951457303, -87.648582038)           Lake View       Town Hall   \n",
       "2    (41.95935351, -87.64693126)              Uptown       Town Hall   \n",
       "\n",
       "   SocioEconomic-Status  Hour Day  Month  \n",
       "0           High Income     1   1      1  \n",
       "1            Low Income     1   1      1  \n",
       "2       Moderate Income     1   1      1  \n",
       "\n",
       "[3 rows x 28 columns]"
      ]
     },
     "execution_count": 4,
     "metadata": {},
     "output_type": "execute_result"
    }
   ],
   "source": [
    "crimes = pd.read_csv(\"./Crime+Corpus/crime_cleaned_v3.csv\").drop(\"Unnamed: 0\",axis=1)\n",
    "crime_binary = pd.read_csv(\"./Crime+Corpus/crimes_binary_v1.csv\").drop(\"Unnamed: 0\",axis=1)\n",
    "crime_binary.head(3)"
   ]
  },
  {
   "cell_type": "markdown",
   "id": "f01a8b79",
   "metadata": {},
   "source": [
    "#### Two types of Data Classification\n",
    "---\n",
    "1. Incarceration -- same data as SVM\n",
    "2. Top3 Crime Classification"
   ]
  },
  {
   "cell_type": "code",
   "execution_count": 5,
   "id": "22b37107",
   "metadata": {},
   "outputs": [
    {
     "data": {
      "text/plain": [
       "0          Mon\n",
       "1          Mon\n",
       "2          Mon\n",
       "3          Mon\n",
       "4          Mon\n",
       "          ... \n",
       "1175724    Sat\n",
       "1175725    Sat\n",
       "1175726    Sat\n",
       "1175727    Sat\n",
       "1175728    Sat\n",
       "Name: dayofweek, Length: 1175729, dtype: object"
      ]
     },
     "execution_count": 5,
     "metadata": {},
     "output_type": "execute_result"
    }
   ],
   "source": [
    "crime_binary['Date'] = pd.to_datetime(crime_binary['Date'])\n",
    "crime_binary['dayofweek'] = crime_binary[\"Date\"].dt.strftime(\"%a\")\n",
    "crime_binary['dayofweek']"
   ]
  },
  {
   "cell_type": "markdown",
   "id": "70b78d8d",
   "metadata": {},
   "source": [
    "### Neural Network for Incarceration"
   ]
  },
  {
   "cell_type": "code",
   "execution_count": 19,
   "id": "03da80c6",
   "metadata": {},
   "outputs": [
    {
     "data": {
      "text/html": [
       "<div>\n",
       "<style scoped>\n",
       "    .dataframe tbody tr th:only-of-type {\n",
       "        vertical-align: middle;\n",
       "    }\n",
       "\n",
       "    .dataframe tbody tr th {\n",
       "        vertical-align: top;\n",
       "    }\n",
       "\n",
       "    .dataframe thead th {\n",
       "        text-align: right;\n",
       "    }\n",
       "</style>\n",
       "<table border=\"1\" class=\"dataframe\">\n",
       "  <thead>\n",
       "    <tr style=\"text-align: right;\">\n",
       "      <th></th>\n",
       "      <th>ID</th>\n",
       "      <th>Case Number</th>\n",
       "      <th>Date</th>\n",
       "      <th>Block</th>\n",
       "      <th>IUCR</th>\n",
       "      <th>Primary Type</th>\n",
       "      <th>Description</th>\n",
       "      <th>Location Description</th>\n",
       "      <th>Arrest</th>\n",
       "      <th>Domestic</th>\n",
       "      <th>...</th>\n",
       "      <th>Latitude</th>\n",
       "      <th>Longitude</th>\n",
       "      <th>Location</th>\n",
       "      <th>Community Area Name</th>\n",
       "      <th>Dristrict-Name</th>\n",
       "      <th>SocioEconomic-Status</th>\n",
       "      <th>Hour</th>\n",
       "      <th>Day</th>\n",
       "      <th>Month</th>\n",
       "      <th>dayofweek</th>\n",
       "    </tr>\n",
       "  </thead>\n",
       "  <tbody>\n",
       "    <tr>\n",
       "      <th>0</th>\n",
       "      <td>11515814</td>\n",
       "      <td>JB527247</td>\n",
       "      <td>2018-01-01 01:00:00</td>\n",
       "      <td>0</td>\n",
       "      <td>0560</td>\n",
       "      <td>0</td>\n",
       "      <td>0</td>\n",
       "      <td>0</td>\n",
       "      <td>False</td>\n",
       "      <td>False</td>\n",
       "      <td>...</td>\n",
       "      <td>41.849030</td>\n",
       "      <td>-87.710045</td>\n",
       "      <td>(41.849030217, -87.710044807)</td>\n",
       "      <td>South Lawndale</td>\n",
       "      <td>Ogden</td>\n",
       "      <td>0</td>\n",
       "      <td>1</td>\n",
       "      <td>1</td>\n",
       "      <td>1</td>\n",
       "      <td>0</td>\n",
       "    </tr>\n",
       "    <tr>\n",
       "      <th>1</th>\n",
       "      <td>11210595</td>\n",
       "      <td>JB125173</td>\n",
       "      <td>2018-01-01 01:00:00</td>\n",
       "      <td>1</td>\n",
       "      <td>0890</td>\n",
       "      <td>1</td>\n",
       "      <td>1</td>\n",
       "      <td>0</td>\n",
       "      <td>False</td>\n",
       "      <td>False</td>\n",
       "      <td>...</td>\n",
       "      <td>41.951457</td>\n",
       "      <td>-87.648582</td>\n",
       "      <td>(41.951457303, -87.648582038)</td>\n",
       "      <td>Lake View</td>\n",
       "      <td>Town Hall</td>\n",
       "      <td>1</td>\n",
       "      <td>1</td>\n",
       "      <td>1</td>\n",
       "      <td>1</td>\n",
       "      <td>0</td>\n",
       "    </tr>\n",
       "    <tr>\n",
       "      <th>2</th>\n",
       "      <td>11205233</td>\n",
       "      <td>JB117580</td>\n",
       "      <td>2018-01-01 01:00:00</td>\n",
       "      <td>2</td>\n",
       "      <td>0281</td>\n",
       "      <td>2</td>\n",
       "      <td>2</td>\n",
       "      <td>1</td>\n",
       "      <td>False</td>\n",
       "      <td>True</td>\n",
       "      <td>...</td>\n",
       "      <td>41.959354</td>\n",
       "      <td>-87.646931</td>\n",
       "      <td>(41.95935351, -87.64693126)</td>\n",
       "      <td>Uptown</td>\n",
       "      <td>Town Hall</td>\n",
       "      <td>2</td>\n",
       "      <td>1</td>\n",
       "      <td>1</td>\n",
       "      <td>1</td>\n",
       "      <td>0</td>\n",
       "    </tr>\n",
       "    <tr>\n",
       "      <th>3</th>\n",
       "      <td>11192281</td>\n",
       "      <td>JB100080</td>\n",
       "      <td>2018-01-01 01:00:00</td>\n",
       "      <td>3</td>\n",
       "      <td>0486</td>\n",
       "      <td>3</td>\n",
       "      <td>3</td>\n",
       "      <td>2</td>\n",
       "      <td>True</td>\n",
       "      <td>True</td>\n",
       "      <td>...</td>\n",
       "      <td>41.653221</td>\n",
       "      <td>-87.545916</td>\n",
       "      <td>(41.653220991, -87.54591594)</td>\n",
       "      <td>Hegewisch</td>\n",
       "      <td>South Chicago</td>\n",
       "      <td>2</td>\n",
       "      <td>1</td>\n",
       "      <td>1</td>\n",
       "      <td>1</td>\n",
       "      <td>0</td>\n",
       "    </tr>\n",
       "    <tr>\n",
       "      <th>4</th>\n",
       "      <td>11193559</td>\n",
       "      <td>JB100825</td>\n",
       "      <td>2018-01-01 01:00:00</td>\n",
       "      <td>4</td>\n",
       "      <td>0870</td>\n",
       "      <td>1</td>\n",
       "      <td>4</td>\n",
       "      <td>2</td>\n",
       "      <td>False</td>\n",
       "      <td>False</td>\n",
       "      <td>...</td>\n",
       "      <td>41.893677</td>\n",
       "      <td>-87.635628</td>\n",
       "      <td>(41.893676531, -87.635628328)</td>\n",
       "      <td>Near North Side</td>\n",
       "      <td>Near North</td>\n",
       "      <td>1</td>\n",
       "      <td>1</td>\n",
       "      <td>1</td>\n",
       "      <td>1</td>\n",
       "      <td>0</td>\n",
       "    </tr>\n",
       "    <tr>\n",
       "      <th>...</th>\n",
       "      <td>...</td>\n",
       "      <td>...</td>\n",
       "      <td>...</td>\n",
       "      <td>...</td>\n",
       "      <td>...</td>\n",
       "      <td>...</td>\n",
       "      <td>...</td>\n",
       "      <td>...</td>\n",
       "      <td>...</td>\n",
       "      <td>...</td>\n",
       "      <td>...</td>\n",
       "      <td>...</td>\n",
       "      <td>...</td>\n",
       "      <td>...</td>\n",
       "      <td>...</td>\n",
       "      <td>...</td>\n",
       "      <td>...</td>\n",
       "      <td>...</td>\n",
       "      <td>...</td>\n",
       "      <td>...</td>\n",
       "      <td>...</td>\n",
       "    </tr>\n",
       "    <tr>\n",
       "      <th>1175724</th>\n",
       "      <td>12937789</td>\n",
       "      <td>JF528687</td>\n",
       "      <td>2022-12-31 12:45:00</td>\n",
       "      <td>12251</td>\n",
       "      <td>1310</td>\n",
       "      <td>7</td>\n",
       "      <td>13</td>\n",
       "      <td>13</td>\n",
       "      <td>False</td>\n",
       "      <td>False</td>\n",
       "      <td>...</td>\n",
       "      <td>41.874153</td>\n",
       "      <td>-87.735239</td>\n",
       "      <td>(41.874153389, -87.735238688)</td>\n",
       "      <td>West Garfield Park</td>\n",
       "      <td>Harrison</td>\n",
       "      <td>0</td>\n",
       "      <td>12</td>\n",
       "      <td>31</td>\n",
       "      <td>12</td>\n",
       "      <td>4</td>\n",
       "    </tr>\n",
       "    <tr>\n",
       "      <th>1175725</th>\n",
       "      <td>12938029</td>\n",
       "      <td>JF528801</td>\n",
       "      <td>2022-12-31 12:50:00</td>\n",
       "      <td>3209</td>\n",
       "      <td>0560</td>\n",
       "      <td>0</td>\n",
       "      <td>0</td>\n",
       "      <td>0</td>\n",
       "      <td>False</td>\n",
       "      <td>False</td>\n",
       "      <td>...</td>\n",
       "      <td>41.855911</td>\n",
       "      <td>-87.719966</td>\n",
       "      <td>(41.855911352, -87.719966)</td>\n",
       "      <td>North Lawndale</td>\n",
       "      <td>Ogden</td>\n",
       "      <td>0</td>\n",
       "      <td>12</td>\n",
       "      <td>31</td>\n",
       "      <td>12</td>\n",
       "      <td>4</td>\n",
       "    </tr>\n",
       "    <tr>\n",
       "      <th>1175726</th>\n",
       "      <td>12937822</td>\n",
       "      <td>JF528703</td>\n",
       "      <td>2022-12-31 12:50:00</td>\n",
       "      <td>364</td>\n",
       "      <td>051A</td>\n",
       "      <td>0</td>\n",
       "      <td>99</td>\n",
       "      <td>0</td>\n",
       "      <td>False</td>\n",
       "      <td>True</td>\n",
       "      <td>...</td>\n",
       "      <td>41.766546</td>\n",
       "      <td>-87.645669</td>\n",
       "      <td>(41.766545786, -87.64566932)</td>\n",
       "      <td>Englewood</td>\n",
       "      <td>Englewood</td>\n",
       "      <td>0</td>\n",
       "      <td>12</td>\n",
       "      <td>31</td>\n",
       "      <td>12</td>\n",
       "      <td>4</td>\n",
       "    </tr>\n",
       "    <tr>\n",
       "      <th>1175727</th>\n",
       "      <td>12937583</td>\n",
       "      <td>JF528218</td>\n",
       "      <td>2022-12-31 00:52:00</td>\n",
       "      <td>19949</td>\n",
       "      <td>0460</td>\n",
       "      <td>3</td>\n",
       "      <td>0</td>\n",
       "      <td>43</td>\n",
       "      <td>False</td>\n",
       "      <td>False</td>\n",
       "      <td>...</td>\n",
       "      <td>41.868829</td>\n",
       "      <td>-87.686098</td>\n",
       "      <td>(41.868829303, -87.686098247)</td>\n",
       "      <td>Near West Side</td>\n",
       "      <td>Harrison</td>\n",
       "      <td>2</td>\n",
       "      <td>0</td>\n",
       "      <td>31</td>\n",
       "      <td>12</td>\n",
       "      <td>4</td>\n",
       "    </tr>\n",
       "    <tr>\n",
       "      <th>1175728</th>\n",
       "      <td>12938420</td>\n",
       "      <td>JF528704</td>\n",
       "      <td>2022-12-31 12:52:00</td>\n",
       "      <td>381</td>\n",
       "      <td>0560</td>\n",
       "      <td>0</td>\n",
       "      <td>0</td>\n",
       "      <td>34</td>\n",
       "      <td>False</td>\n",
       "      <td>False</td>\n",
       "      <td>...</td>\n",
       "      <td>41.930693</td>\n",
       "      <td>-87.685657</td>\n",
       "      <td>(41.930692897, -87.685656977)</td>\n",
       "      <td>Logan Square</td>\n",
       "      <td>Shakespeare</td>\n",
       "      <td>1</td>\n",
       "      <td>12</td>\n",
       "      <td>31</td>\n",
       "      <td>12</td>\n",
       "      <td>4</td>\n",
       "    </tr>\n",
       "  </tbody>\n",
       "</table>\n",
       "<p>1175729 rows × 29 columns</p>\n",
       "</div>"
      ],
      "text/plain": [
       "               ID Case Number                Date  Block  IUCR  Primary Type   \n",
       "0        11515814    JB527247 2018-01-01 01:00:00      0  0560             0  \\\n",
       "1        11210595    JB125173 2018-01-01 01:00:00      1  0890             1   \n",
       "2        11205233    JB117580 2018-01-01 01:00:00      2  0281             2   \n",
       "3        11192281    JB100080 2018-01-01 01:00:00      3  0486             3   \n",
       "4        11193559    JB100825 2018-01-01 01:00:00      4  0870             1   \n",
       "...           ...         ...                 ...    ...   ...           ...   \n",
       "1175724  12937789    JF528687 2022-12-31 12:45:00  12251  1310             7   \n",
       "1175725  12938029    JF528801 2022-12-31 12:50:00   3209  0560             0   \n",
       "1175726  12937822    JF528703 2022-12-31 12:50:00    364  051A             0   \n",
       "1175727  12937583    JF528218 2022-12-31 00:52:00  19949  0460             3   \n",
       "1175728  12938420    JF528704 2022-12-31 12:52:00    381  0560             0   \n",
       "\n",
       "         Description  Location Description  Arrest  Domestic  ...   Latitude   \n",
       "0                  0                     0   False     False  ...  41.849030  \\\n",
       "1                  1                     0   False     False  ...  41.951457   \n",
       "2                  2                     1   False      True  ...  41.959354   \n",
       "3                  3                     2    True      True  ...  41.653221   \n",
       "4                  4                     2   False     False  ...  41.893677   \n",
       "...              ...                   ...     ...       ...  ...        ...   \n",
       "1175724           13                    13   False     False  ...  41.874153   \n",
       "1175725            0                     0   False     False  ...  41.855911   \n",
       "1175726           99                     0   False      True  ...  41.766546   \n",
       "1175727            0                    43   False     False  ...  41.868829   \n",
       "1175728            0                    34   False     False  ...  41.930693   \n",
       "\n",
       "         Longitude                       Location  Community Area Name   \n",
       "0       -87.710045  (41.849030217, -87.710044807)       South Lawndale  \\\n",
       "1       -87.648582  (41.951457303, -87.648582038)            Lake View   \n",
       "2       -87.646931    (41.95935351, -87.64693126)               Uptown   \n",
       "3       -87.545916   (41.653220991, -87.54591594)            Hegewisch   \n",
       "4       -87.635628  (41.893676531, -87.635628328)      Near North Side   \n",
       "...            ...                            ...                  ...   \n",
       "1175724 -87.735239  (41.874153389, -87.735238688)   West Garfield Park   \n",
       "1175725 -87.719966     (41.855911352, -87.719966)       North Lawndale   \n",
       "1175726 -87.645669   (41.766545786, -87.64566932)            Englewood   \n",
       "1175727 -87.686098  (41.868829303, -87.686098247)       Near West Side   \n",
       "1175728 -87.685657  (41.930692897, -87.685656977)         Logan Square   \n",
       "\n",
       "        Dristrict-Name  SocioEconomic-Status  Hour  Day Month  dayofweek  \n",
       "0                Ogden                     0     1    1     1          0  \n",
       "1            Town Hall                     1     1    1     1          0  \n",
       "2            Town Hall                     2     1    1     1          0  \n",
       "3        South Chicago                     2     1    1     1          0  \n",
       "4           Near North                     1     1    1     1          0  \n",
       "...                ...                   ...   ...  ...   ...        ...  \n",
       "1175724       Harrison                     0    12   31    12          4  \n",
       "1175725          Ogden                     0    12   31    12          4  \n",
       "1175726      Englewood                     0    12   31    12          4  \n",
       "1175727       Harrison                     2     0   31    12          4  \n",
       "1175728    Shakespeare                     1    12   31    12          4  \n",
       "\n",
       "[1175729 rows x 29 columns]"
      ]
     },
     "execution_count": 19,
     "metadata": {},
     "output_type": "execute_result"
    }
   ],
   "source": [
    "### Incarceration Data\n",
    "crime_arrest = crime_binary.copy(deep=True)\n",
    "\n",
    "# select features and target variable\n",
    "features = ['Block','Primary Type', 'Description','Community Area','Location Description','SocioEconomic-Status','dayofweek']\n",
    "target = 'Arrest'\n",
    "\n",
    "# encode categorical features\n",
    "for feature in features:\n",
    "    if crime_arrest[feature].dtype == 'object':\n",
    "        crime_arrest[feature] = pd.factorize(crime_arrest[feature])[0]\n",
    "        \n",
    "crime_arrest"
   ]
  },
  {
   "cell_type": "code",
   "execution_count": 20,
   "id": "cfd1d5d3",
   "metadata": {},
   "outputs": [
    {
     "data": {
      "text/plain": [
       "<Axes: xlabel='Arrest'>"
      ]
     },
     "execution_count": 20,
     "metadata": {},
     "output_type": "execute_result"
    },
    {
     "data": {
      "image/png": "[encoded data removed]",
      "text/plain": [
       "<Figure size 640x480 with 1 Axes>"
      ]
     },
     "metadata": {},
     "output_type": "display_data"
    }
   ],
   "source": [
    "crime_arrest[target].value_counts().plot(kind='bar')"
   ]
  },
  {
   "cell_type": "code",
   "execution_count": null,
   "id": "9fe0f43d",
   "metadata": {},
   "outputs": [],
   "source": []
  },
  {
   "cell_type": "code",
   "execution_count": 21,
   "id": "811b2044",
   "metadata": {},
   "outputs": [
    {
     "name": "stdout",
     "output_type": "stream",
     "text": [
      "Features ['Block', 'Primary Type', 'Description', 'Community Area', 'Location Description', 'SocioEconomic-Status', 'dayofweek']\n",
      "Class: Arrest\n",
      "Class Balance: Arrest\n",
      "False    980840\n",
      "True     194889\n",
      "Name: count, dtype: int64\n",
      "- Undersampling Data.\n",
      "Class distribution after undersampling:\n",
      "Arrest\n",
      "True     720877\n",
      "False    645523\n",
      "Name: count, dtype: int64\n",
      "Scaling Numericals\n"
     ]
    }
   ],
   "source": [
    "# Downsampling and Normalizing\n",
    "from imblearn.combine import SMOTEENN\n",
    "from sklearn.preprocessing import StandardScaler\n",
    "from sklearn.model_selection import train_test_split\n",
    "\n",
    "X, y = crime_arrest[features], crime_arrest[target]\n",
    "\n",
    "print(f\"Features {features}\")\n",
    "print(f'Class: {target}')\n",
    "\n",
    "print(f'Class Balance: {y.value_counts()}')\n",
    "smote_enn = SMOTEENN(random_state=42,)\n",
    "X_resampled, y_resampled = smote_enn.fit_resample(X, y)\n",
    "\n",
    "print('- Undersampling Data.')\n",
    "\n",
    "print('Class distribution after undersampling:')\n",
    "print(pd.Series(y_resampled).value_counts())\n",
    "\n",
    "print('Scaling Numericals')\n",
    "# create a StandardScaler object\n",
    "scaler = StandardScaler()\n",
    "\n",
    "# fit the scaler on the data\n",
    "scaler.fit(X)\n",
    "\n",
    "# transform the data using the scaler\n",
    "X_scaled = scaler.transform(X_resampled)\n"
   ]
  },
  {
   "cell_type": "code",
   "execution_count": 22,
   "id": "e331c885",
   "metadata": {},
   "outputs": [
    {
     "name": "stdout",
     "output_type": "stream",
     "text": [
      "Creating Distributions Train: 70, Test: 30\n"
     ]
    }
   ],
   "source": [
    "# Sampling \n",
    "data = pd.DataFrame(X_scaled)\n",
    "data['target'] = y_resampled\n",
    "data = data.sample(10000)\n",
    "X = data.drop('target',axis=1)\n",
    "y = data['target']\n",
    "\n",
    "print(f'Creating Distributions Train: 70, Test: 30')\n",
    "X_train, X_test, y_train, y_test = train_test_split(X, y, \n",
    "                                                    test_size=0.3, random_state=101)\n"
   ]
  },
  {
   "cell_type": "markdown",
   "id": "7b65f5f1",
   "metadata": {},
   "source": [
    "### Model Building"
   ]
  },
  {
   "cell_type": "code",
   "execution_count": 23,
   "id": "95dfbff1",
   "metadata": {},
   "outputs": [],
   "source": [
    "from tensorflow.keras.models import Sequential\n",
    "from tensorflow.keras.layers import Dense, Activation,Dropout\n",
    "\n",
    "from tensorflow.keras.callbacks import EarlyStopping"
   ]
  },
  {
   "cell_type": "code",
   "execution_count": 24,
   "id": "7a74415b",
   "metadata": {},
   "outputs": [],
   "source": [
    "early_stop = EarlyStopping(monitor='val_loss', mode='min', verbose=1, patience=25)"
   ]
  },
  {
   "cell_type": "code",
   "execution_count": 19,
   "id": "748000d8",
   "metadata": {},
   "outputs": [
    {
     "data": {
      "text/plain": [
       "(7000, 7)"
      ]
     },
     "execution_count": 19,
     "metadata": {},
     "output_type": "execute_result"
    }
   ],
   "source": [
    "X_train.shape"
   ]
  },
  {
   "cell_type": "code",
   "execution_count": 20,
   "id": "7989a1e4",
   "metadata": {},
   "outputs": [],
   "source": [
    "nnet = Sequential()\n",
    "\n",
    "nnet.add(Dense(units=7, activation='relu', ))\n",
    "nnet.add(Dense(units=15, activation='relu', ))\n",
    "nnet.add(Dense(units=20, activation='relu', ))\n",
    "nnet.add(Dense(units=1, activation='sigmoid',))\n",
    "# For a binary classification problem\n",
    "nnet.compile(loss='binary_crossentropy', optimizer='adam')"
   ]
  },
  {
   "cell_type": "code",
   "execution_count": 21,
   "id": "30b73184",
   "metadata": {},
   "outputs": [],
   "source": [
    "nnet.build(input_shape=X_train.shape)"
   ]
  },
  {
   "cell_type": "code",
   "execution_count": 22,
   "id": "0a703855",
   "metadata": {},
   "outputs": [
    {
     "name": "stdout",
     "output_type": "stream",
     "text": [
      "Model: \"sequential_1\"\n",
      "_________________________________________________________________\n",
      " Layer (type)                Output Shape              Param #   \n",
      "=================================================================\n",
      " dense_4 (Dense)             (7000, 7)                 56        \n",
      "                                                                 \n",
      " dense_5 (Dense)             (7000, 15)                120       \n",
      "                                                                 \n",
      " dense_6 (Dense)             (7000, 20)                320       \n",
      "                                                                 \n",
      " dense_7 (Dense)             (7000, 1)                 21        \n",
      "                                                                 \n",
      "=================================================================\n",
      "Total params: 517\n",
      "Trainable params: 517\n",
      "Non-trainable params: 0\n",
      "_________________________________________________________________\n"
     ]
    }
   ],
   "source": [
    "nnet.summary()"
   ]
  },
  {
   "cell_type": "code",
   "execution_count": 23,
   "id": "8b81a0c3",
   "metadata": {
    "scrolled": false
   },
   "outputs": [
    {
     "name": "stdout",
     "output_type": "stream",
     "text": [
      "Epoch 1/600\n",
      "219/219 [==============================] - 2s 8ms/step - loss: 0.6073 - val_loss: 0.5495\n",
      "Epoch 2/600\n",
      "219/219 [==============================] - 2s 7ms/step - loss: 0.5434 - val_loss: 0.5398\n",
      "Epoch 3/600\n",
      "219/219 [==============================] - 2s 7ms/step - loss: 0.5362 - val_loss: 0.5353\n",
      "Epoch 4/600\n",
      "219/219 [==============================] - 2s 7ms/step - loss: 0.5330 - val_loss: 0.5340\n",
      "Epoch 5/600\n",
      "219/219 [==============================] - 2s 7ms/step - loss: 0.5305 - val_loss: 0.5310\n",
      "Epoch 6/600\n",
      "219/219 [==============================] - 2s 7ms/step - loss: 0.5282 - val_loss: 0.5276\n",
      "Epoch 7/600\n",
      "219/219 [==============================] - 2s 7ms/step - loss: 0.5265 - val_loss: 0.5250\n",
      "Epoch 8/600\n",
      "219/219 [==============================] - 2s 8ms/step - loss: 0.5233 - val_loss: 0.5231\n",
      "Epoch 9/600\n",
      "219/219 [==============================] - 2s 8ms/step - loss: 0.5211 - val_loss: 0.5214\n",
      "Epoch 10/600\n",
      "219/219 [==============================] - 2s 8ms/step - loss: 0.5190 - val_loss: 0.5195\n",
      "Epoch 11/600\n",
      "219/219 [==============================] - 2s 8ms/step - loss: 0.5164 - val_loss: 0.5173\n",
      "Epoch 12/600\n",
      "219/219 [==============================] - 2s 8ms/step - loss: 0.5145 - val_loss: 0.5154\n",
      "Epoch 13/600\n",
      "219/219 [==============================] - 2s 8ms/step - loss: 0.5127 - val_loss: 0.5143\n",
      "Epoch 14/600\n",
      "219/219 [==============================] - 2s 8ms/step - loss: 0.5105 - val_loss: 0.5125\n",
      "Epoch 15/600\n",
      "219/219 [==============================] - 2s 8ms/step - loss: 0.5084 - val_loss: 0.5104\n",
      "Epoch 16/600\n",
      "219/219 [==============================] - 2s 7ms/step - loss: 0.5064 - val_loss: 0.5092\n",
      "Epoch 17/600\n",
      "219/219 [==============================] - 2s 8ms/step - loss: 0.5047 - val_loss: 0.5079\n",
      "Epoch 18/600\n",
      "219/219 [==============================] - 2s 7ms/step - loss: 0.5029 - val_loss: 0.5101\n",
      "Epoch 19/600\n",
      "219/219 [==============================] - 2s 7ms/step - loss: 0.5010 - val_loss: 0.5065\n",
      "Epoch 20/600\n",
      "219/219 [==============================] - 2s 8ms/step - loss: 0.4990 - val_loss: 0.5034\n",
      "Epoch 21/600\n",
      "219/219 [==============================] - 2s 7ms/step - loss: 0.4972 - val_loss: 0.5044\n",
      "Epoch 22/600\n",
      "219/219 [==============================] - 2s 7ms/step - loss: 0.4951 - val_loss: 0.5025\n",
      "Epoch 23/600\n",
      "219/219 [==============================] - 2s 7ms/step - loss: 0.4928 - val_loss: 0.5008\n",
      "Epoch 24/600\n",
      "219/219 [==============================] - 2s 7ms/step - loss: 0.4904 - val_loss: 0.5006\n",
      "Epoch 25/600\n",
      "219/219 [==============================] - 2s 8ms/step - loss: 0.4907 - val_loss: 0.4966\n",
      "Epoch 26/600\n",
      "219/219 [==============================] - 2s 8ms/step - loss: 0.4864 - val_loss: 0.4974\n",
      "Epoch 27/600\n",
      "219/219 [==============================] - 2s 7ms/step - loss: 0.4848 - val_loss: 0.4955\n",
      "Epoch 28/600\n",
      "219/219 [==============================] - 2s 7ms/step - loss: 0.4826 - val_loss: 0.4940\n",
      "Epoch 29/600\n",
      "219/219 [==============================] - 2s 7ms/step - loss: 0.4810 - val_loss: 0.4911\n",
      "Epoch 30/600\n",
      "219/219 [==============================] - 2s 7ms/step - loss: 0.4795 - val_loss: 0.4910\n",
      "Epoch 31/600\n",
      "219/219 [==============================] - 2s 7ms/step - loss: 0.4775 - val_loss: 0.4893\n",
      "Epoch 32/600\n",
      "219/219 [==============================] - 2s 7ms/step - loss: 0.4763 - val_loss: 0.4927\n",
      "Epoch 33/600\n",
      "219/219 [==============================] - 2s 7ms/step - loss: 0.4735 - val_loss: 0.4856\n",
      "Epoch 34/600\n",
      "219/219 [==============================] - 2s 7ms/step - loss: 0.4714 - val_loss: 0.4876\n",
      "Epoch 35/600\n",
      "219/219 [==============================] - 2s 7ms/step - loss: 0.4707 - val_loss: 0.4818\n",
      "Epoch 36/600\n",
      "219/219 [==============================] - 2s 7ms/step - loss: 0.4688 - val_loss: 0.4830\n",
      "Epoch 37/600\n",
      "219/219 [==============================] - 2s 7ms/step - loss: 0.4664 - val_loss: 0.4805\n",
      "Epoch 38/600\n",
      "219/219 [==============================] - 2s 7ms/step - loss: 0.4651 - val_loss: 0.4793\n",
      "Epoch 39/600\n",
      "219/219 [==============================] - 2s 7ms/step - loss: 0.4639 - val_loss: 0.4795\n",
      "Epoch 40/600\n",
      "219/219 [==============================] - 2s 7ms/step - loss: 0.4619 - val_loss: 0.4766\n",
      "Epoch 41/600\n",
      "219/219 [==============================] - 2s 7ms/step - loss: 0.4599 - val_loss: 0.4757\n",
      "Epoch 42/600\n",
      "219/219 [==============================] - 2s 7ms/step - loss: 0.4590 - val_loss: 0.4723\n",
      "Epoch 43/600\n",
      "219/219 [==============================] - 2s 7ms/step - loss: 0.4562 - val_loss: 0.4720\n",
      "Epoch 44/600\n",
      "219/219 [==============================] - 2s 7ms/step - loss: 0.4548 - val_loss: 0.4675\n",
      "Epoch 45/600\n",
      "219/219 [==============================] - 2s 7ms/step - loss: 0.4538 - val_loss: 0.4682\n",
      "Epoch 46/600\n",
      "219/219 [==============================] - 2s 7ms/step - loss: 0.4526 - val_loss: 0.4702\n",
      "Epoch 47/600\n",
      "219/219 [==============================] - 2s 7ms/step - loss: 0.4494 - val_loss: 0.4638\n",
      "Epoch 48/600\n",
      "219/219 [==============================] - 2s 7ms/step - loss: 0.4467 - val_loss: 0.4603\n",
      "Epoch 49/600\n",
      "219/219 [==============================] - 2s 7ms/step - loss: 0.4449 - val_loss: 0.4580\n",
      "Epoch 50/600\n",
      "219/219 [==============================] - 2s 7ms/step - loss: 0.4433 - val_loss: 0.4598\n",
      "Epoch 51/600\n",
      "219/219 [==============================] - 2s 7ms/step - loss: 0.4412 - val_loss: 0.4607\n",
      "Epoch 52/600\n",
      "219/219 [==============================] - 2s 7ms/step - loss: 0.4383 - val_loss: 0.4561\n",
      "Epoch 53/600\n",
      "219/219 [==============================] - 2s 7ms/step - loss: 0.4373 - val_loss: 0.4509\n",
      "Epoch 54/600\n",
      "219/219 [==============================] - 2s 7ms/step - loss: 0.4358 - val_loss: 0.4540\n",
      "Epoch 55/600\n",
      "219/219 [==============================] - 2s 7ms/step - loss: 0.4342 - val_loss: 0.4481\n",
      "Epoch 56/600\n",
      "219/219 [==============================] - 2s 7ms/step - loss: 0.4332 - val_loss: 0.4492\n",
      "Epoch 57/600\n",
      "219/219 [==============================] - 2s 7ms/step - loss: 0.4322 - val_loss: 0.4477\n",
      "Epoch 58/600\n",
      "219/219 [==============================] - 2s 7ms/step - loss: 0.4298 - val_loss: 0.4490\n",
      "Epoch 59/600\n",
      "219/219 [==============================] - 2s 7ms/step - loss: 0.4287 - val_loss: 0.4492\n",
      "Epoch 60/600\n",
      "219/219 [==============================] - 2s 7ms/step - loss: 0.4286 - val_loss: 0.4426\n",
      "Epoch 61/600\n",
      "219/219 [==============================] - 2s 7ms/step - loss: 0.4257 - val_loss: 0.4450\n",
      "Epoch 62/600\n",
      "219/219 [==============================] - 2s 7ms/step - loss: 0.4252 - val_loss: 0.4419\n",
      "Epoch 63/600\n",
      "219/219 [==============================] - 2s 7ms/step - loss: 0.4233 - val_loss: 0.4439\n",
      "Epoch 64/600\n",
      "219/219 [==============================] - 2s 7ms/step - loss: 0.4234 - val_loss: 0.4381\n",
      "Epoch 65/600\n",
      "219/219 [==============================] - 2s 7ms/step - loss: 0.4213 - val_loss: 0.4422\n",
      "Epoch 66/600\n",
      "219/219 [==============================] - 2s 7ms/step - loss: 0.4205 - val_loss: 0.4465\n",
      "Epoch 67/600\n",
      "219/219 [==============================] - 2s 7ms/step - loss: 0.4196 - val_loss: 0.4379\n",
      "Epoch 68/600\n",
      "219/219 [==============================] - 2s 7ms/step - loss: 0.4178 - val_loss: 0.4377\n",
      "Epoch 69/600\n",
      "219/219 [==============================] - 2s 7ms/step - loss: 0.4179 - val_loss: 0.4348\n",
      "Epoch 70/600\n",
      "219/219 [==============================] - 2s 7ms/step - loss: 0.4170 - val_loss: 0.4375\n",
      "Epoch 71/600\n",
      "219/219 [==============================] - 2s 7ms/step - loss: 0.4155 - val_loss: 0.4346\n",
      "Epoch 72/600\n",
      "219/219 [==============================] - 2s 7ms/step - loss: 0.4151 - val_loss: 0.4325\n",
      "Epoch 73/600\n",
      "219/219 [==============================] - 2s 7ms/step - loss: 0.4134 - val_loss: 0.4316\n",
      "Epoch 74/600\n",
      "219/219 [==============================] - 2s 7ms/step - loss: 0.4120 - val_loss: 0.4331\n",
      "Epoch 75/600\n",
      "219/219 [==============================] - 2s 7ms/step - loss: 0.4120 - val_loss: 0.4293\n",
      "Epoch 76/600\n",
      "219/219 [==============================] - 2s 7ms/step - loss: 0.4106 - val_loss: 0.4274\n",
      "Epoch 77/600\n",
      "219/219 [==============================] - 2s 7ms/step - loss: 0.4098 - val_loss: 0.4369\n",
      "Epoch 78/600\n",
      "219/219 [==============================] - 2s 7ms/step - loss: 0.4102 - val_loss: 0.4285\n",
      "Epoch 79/600\n",
      "219/219 [==============================] - 2s 7ms/step - loss: 0.4090 - val_loss: 0.4275\n",
      "Epoch 80/600\n",
      "219/219 [==============================] - 2s 7ms/step - loss: 0.4074 - val_loss: 0.4286\n",
      "Epoch 81/600\n",
      "219/219 [==============================] - 2s 7ms/step - loss: 0.4066 - val_loss: 0.4261\n",
      "Epoch 82/600\n",
      "219/219 [==============================] - 2s 7ms/step - loss: 0.4058 - val_loss: 0.4250\n",
      "Epoch 83/600\n",
      "219/219 [==============================] - 2s 7ms/step - loss: 0.4041 - val_loss: 0.4263\n",
      "Epoch 84/600\n",
      "219/219 [==============================] - 2s 7ms/step - loss: 0.4042 - val_loss: 0.4249\n",
      "Epoch 85/600\n",
      "219/219 [==============================] - 2s 8ms/step - loss: 0.4032 - val_loss: 0.4291\n",
      "Epoch 86/600\n",
      "219/219 [==============================] - 2s 8ms/step - loss: 0.4026 - val_loss: 0.4288\n",
      "Epoch 87/600\n",
      "219/219 [==============================] - 2s 8ms/step - loss: 0.4009 - val_loss: 0.4275\n",
      "Epoch 88/600\n",
      "219/219 [==============================] - 2s 7ms/step - loss: 0.4009 - val_loss: 0.4290\n",
      "Epoch 89/600\n",
      "219/219 [==============================] - 2s 8ms/step - loss: 0.4011 - val_loss: 0.4240\n",
      "Epoch 90/600\n",
      "219/219 [==============================] - 2s 7ms/step - loss: 0.3975 - val_loss: 0.4354\n",
      "Epoch 91/600\n",
      "219/219 [==============================] - 2s 7ms/step - loss: 0.3972 - val_loss: 0.4240\n",
      "Epoch 92/600\n",
      "219/219 [==============================] - 2s 7ms/step - loss: 0.3986 - val_loss: 0.4274\n",
      "Epoch 93/600\n",
      "219/219 [==============================] - 2s 7ms/step - loss: 0.3969 - val_loss: 0.4242\n",
      "Epoch 94/600\n",
      "219/219 [==============================] - 2s 8ms/step - loss: 0.3985 - val_loss: 0.4234\n",
      "Epoch 95/600\n",
      "219/219 [==============================] - 2s 7ms/step - loss: 0.3975 - val_loss: 0.4224\n",
      "Epoch 96/600\n",
      "219/219 [==============================] - 2s 7ms/step - loss: 0.3967 - val_loss: 0.4214\n",
      "Epoch 97/600\n",
      "219/219 [==============================] - 2s 7ms/step - loss: 0.3940 - val_loss: 0.4210\n",
      "Epoch 98/600\n",
      "219/219 [==============================] - 2s 7ms/step - loss: 0.3936 - val_loss: 0.4206\n",
      "Epoch 99/600\n",
      "219/219 [==============================] - 2s 8ms/step - loss: 0.3941 - val_loss: 0.4292\n",
      "Epoch 100/600\n",
      "219/219 [==============================] - 2s 7ms/step - loss: 0.3939 - val_loss: 0.4197\n",
      "Epoch 101/600\n",
      "219/219 [==============================] - 2s 7ms/step - loss: 0.3946 - val_loss: 0.4280\n",
      "Epoch 102/600\n",
      "219/219 [==============================] - 2s 7ms/step - loss: 0.3935 - val_loss: 0.4211\n",
      "Epoch 103/600\n",
      "219/219 [==============================] - 2s 7ms/step - loss: 0.3935 - val_loss: 0.4201\n",
      "Epoch 104/600\n",
      "219/219 [==============================] - 2s 7ms/step - loss: 0.3920 - val_loss: 0.4239\n",
      "Epoch 105/600\n",
      "219/219 [==============================] - 2s 7ms/step - loss: 0.3922 - val_loss: 0.4190\n",
      "Epoch 106/600\n",
      "219/219 [==============================] - 2s 8ms/step - loss: 0.3903 - val_loss: 0.4213\n",
      "Epoch 107/600\n",
      "219/219 [==============================] - 2s 8ms/step - loss: 0.3912 - val_loss: 0.4224\n",
      "Epoch 108/600\n",
      "219/219 [==============================] - 2s 7ms/step - loss: 0.3913 - val_loss: 0.4210\n",
      "Epoch 109/600\n",
      "219/219 [==============================] - 2s 7ms/step - loss: 0.3906 - val_loss: 0.4165\n",
      "Epoch 110/600\n",
      "219/219 [==============================] - 2s 7ms/step - loss: 0.3900 - val_loss: 0.4176\n",
      "Epoch 111/600\n",
      "219/219 [==============================] - 2s 7ms/step - loss: 0.3898 - val_loss: 0.4187\n",
      "Epoch 112/600\n",
      "219/219 [==============================] - 2s 7ms/step - loss: 0.3891 - val_loss: 0.4193\n",
      "Epoch 113/600\n",
      "219/219 [==============================] - 2s 8ms/step - loss: 0.3889 - val_loss: 0.4195\n",
      "Epoch 114/600\n",
      "219/219 [==============================] - 2s 8ms/step - loss: 0.3891 - val_loss: 0.4235\n",
      "Epoch 115/600\n",
      "219/219 [==============================] - 2s 8ms/step - loss: 0.3859 - val_loss: 0.4296\n",
      "Epoch 116/600\n",
      "219/219 [==============================] - 2s 8ms/step - loss: 0.3870 - val_loss: 0.4252\n",
      "Epoch 117/600\n",
      "219/219 [==============================] - 2s 8ms/step - loss: 0.3895 - val_loss: 0.4155\n",
      "Epoch 118/600\n",
      "219/219 [==============================] - 2s 7ms/step - loss: 0.3877 - val_loss: 0.4160\n",
      "Epoch 119/600\n",
      "219/219 [==============================] - 2s 7ms/step - loss: 0.3861 - val_loss: 0.4154\n",
      "Epoch 120/600\n",
      "219/219 [==============================] - 2s 7ms/step - loss: 0.3848 - val_loss: 0.4148\n",
      "Epoch 121/600\n",
      "219/219 [==============================] - 2s 7ms/step - loss: 0.3863 - val_loss: 0.4171\n",
      "Epoch 122/600\n",
      "219/219 [==============================] - 2s 7ms/step - loss: 0.3847 - val_loss: 0.4234\n",
      "Epoch 123/600\n",
      "219/219 [==============================] - 2s 7ms/step - loss: 0.3850 - val_loss: 0.4147\n",
      "Epoch 124/600\n",
      "219/219 [==============================] - 2s 7ms/step - loss: 0.3837 - val_loss: 0.4137\n",
      "Epoch 125/600\n",
      "219/219 [==============================] - 2s 8ms/step - loss: 0.3848 - val_loss: 0.4187\n",
      "Epoch 126/600\n",
      "219/219 [==============================] - 2s 7ms/step - loss: 0.3840 - val_loss: 0.4139\n",
      "Epoch 127/600\n",
      "219/219 [==============================] - 2s 7ms/step - loss: 0.3837 - val_loss: 0.4194\n",
      "Epoch 128/600\n",
      "219/219 [==============================] - 2s 7ms/step - loss: 0.3822 - val_loss: 0.4141\n",
      "Epoch 129/600\n",
      "219/219 [==============================] - 2s 7ms/step - loss: 0.3819 - val_loss: 0.4150\n",
      "Epoch 130/600\n",
      "219/219 [==============================] - 2s 7ms/step - loss: 0.3828 - val_loss: 0.4148\n",
      "Epoch 131/600\n",
      "219/219 [==============================] - 2s 7ms/step - loss: 0.3820 - val_loss: 0.4132\n",
      "Epoch 132/600\n",
      "219/219 [==============================] - 2s 7ms/step - loss: 0.3801 - val_loss: 0.4184\n",
      "Epoch 133/600\n",
      "219/219 [==============================] - 2s 7ms/step - loss: 0.3825 - val_loss: 0.4140\n",
      "Epoch 134/600\n",
      "219/219 [==============================] - 2s 7ms/step - loss: 0.3816 - val_loss: 0.4138\n",
      "Epoch 135/600\n",
      "219/219 [==============================] - 2s 7ms/step - loss: 0.3809 - val_loss: 0.4123\n",
      "Epoch 136/600\n",
      "219/219 [==============================] - 2s 7ms/step - loss: 0.3796 - val_loss: 0.4152\n",
      "Epoch 137/600\n",
      "219/219 [==============================] - 2s 7ms/step - loss: 0.3822 - val_loss: 0.4145\n",
      "Epoch 138/600\n",
      "219/219 [==============================] - 2s 7ms/step - loss: 0.3799 - val_loss: 0.4138\n",
      "Epoch 139/600\n",
      "219/219 [==============================] - 2s 7ms/step - loss: 0.3790 - val_loss: 0.4327\n",
      "Epoch 140/600\n",
      "219/219 [==============================] - 2s 8ms/step - loss: 0.3785 - val_loss: 0.4124\n",
      "Epoch 141/600\n",
      "219/219 [==============================] - 2s 7ms/step - loss: 0.3800 - val_loss: 0.4164\n",
      "Epoch 142/600\n",
      "219/219 [==============================] - 2s 8ms/step - loss: 0.3772 - val_loss: 0.4106\n",
      "Epoch 143/600\n",
      "219/219 [==============================] - 2s 8ms/step - loss: 0.3786 - val_loss: 0.4120\n",
      "Epoch 144/600\n",
      "219/219 [==============================] - 2s 8ms/step - loss: 0.3770 - val_loss: 0.4239\n",
      "Epoch 145/600\n",
      "219/219 [==============================] - 2s 8ms/step - loss: 0.3778 - val_loss: 0.4125\n",
      "Epoch 146/600\n",
      "219/219 [==============================] - 2s 7ms/step - loss: 0.3772 - val_loss: 0.4125\n",
      "Epoch 147/600\n",
      "219/219 [==============================] - 2s 7ms/step - loss: 0.3763 - val_loss: 0.4103\n",
      "Epoch 148/600\n",
      "219/219 [==============================] - 2s 7ms/step - loss: 0.3757 - val_loss: 0.4164\n",
      "Epoch 149/600\n",
      "219/219 [==============================] - 2s 7ms/step - loss: 0.3761 - val_loss: 0.4190\n",
      "Epoch 150/600\n",
      "219/219 [==============================] - 2s 7ms/step - loss: 0.3755 - val_loss: 0.4084\n",
      "Epoch 151/600\n",
      "219/219 [==============================] - 2s 7ms/step - loss: 0.3747 - val_loss: 0.4063\n",
      "Epoch 152/600\n",
      "219/219 [==============================] - 2s 7ms/step - loss: 0.3736 - val_loss: 0.4110\n",
      "Epoch 153/600\n",
      "219/219 [==============================] - 2s 7ms/step - loss: 0.3734 - val_loss: 0.4093\n",
      "Epoch 154/600\n",
      "219/219 [==============================] - 2s 7ms/step - loss: 0.3745 - val_loss: 0.4059\n",
      "Epoch 155/600\n",
      "219/219 [==============================] - 2s 7ms/step - loss: 0.3729 - val_loss: 0.4094\n",
      "Epoch 156/600\n",
      "219/219 [==============================] - 2s 7ms/step - loss: 0.3739 - val_loss: 0.4083\n",
      "Epoch 157/600\n",
      "219/219 [==============================] - 2s 7ms/step - loss: 0.3729 - val_loss: 0.4135\n",
      "Epoch 158/600\n",
      "219/219 [==============================] - 2s 7ms/step - loss: 0.3728 - val_loss: 0.4079\n",
      "Epoch 159/600\n",
      "219/219 [==============================] - 2s 7ms/step - loss: 0.3720 - val_loss: 0.4090\n",
      "Epoch 160/600\n",
      "219/219 [==============================] - 2s 7ms/step - loss: 0.3720 - val_loss: 0.4087\n"
     ]
    },
    {
     "name": "stdout",
     "output_type": "stream",
     "text": [
      "Epoch 161/600\n",
      "219/219 [==============================] - 2s 7ms/step - loss: 0.3717 - val_loss: 0.4102\n",
      "Epoch 162/600\n",
      "219/219 [==============================] - 2s 7ms/step - loss: 0.3719 - val_loss: 0.4062\n",
      "Epoch 163/600\n",
      "219/219 [==============================] - 2s 7ms/step - loss: 0.3707 - val_loss: 0.4074\n",
      "Epoch 164/600\n",
      "219/219 [==============================] - 2s 7ms/step - loss: 0.3710 - val_loss: 0.4050\n",
      "Epoch 165/600\n",
      "219/219 [==============================] - 2s 8ms/step - loss: 0.3719 - val_loss: 0.4082\n",
      "Epoch 166/600\n",
      "219/219 [==============================] - 2s 8ms/step - loss: 0.3709 - val_loss: 0.4087\n",
      "Epoch 167/600\n",
      "219/219 [==============================] - 2s 8ms/step - loss: 0.3711 - val_loss: 0.4073\n",
      "Epoch 168/600\n",
      "219/219 [==============================] - 2s 7ms/step - loss: 0.3715 - val_loss: 0.4089\n",
      "Epoch 169/600\n",
      "219/219 [==============================] - 2s 7ms/step - loss: 0.3706 - val_loss: 0.4110\n",
      "Epoch 170/600\n",
      "219/219 [==============================] - 2s 7ms/step - loss: 0.3688 - val_loss: 0.4083\n",
      "Epoch 171/600\n",
      "219/219 [==============================] - 2s 7ms/step - loss: 0.3682 - val_loss: 0.4067\n",
      "Epoch 172/600\n",
      "219/219 [==============================] - 2s 7ms/step - loss: 0.3688 - val_loss: 0.4075\n",
      "Epoch 173/600\n",
      "219/219 [==============================] - 2s 7ms/step - loss: 0.3690 - val_loss: 0.4104\n",
      "Epoch 174/600\n",
      "219/219 [==============================] - 2s 7ms/step - loss: 0.3710 - val_loss: 0.4048\n",
      "Epoch 175/600\n",
      "219/219 [==============================] - 2s 7ms/step - loss: 0.3694 - val_loss: 0.4075\n",
      "Epoch 176/600\n",
      "219/219 [==============================] - 2s 7ms/step - loss: 0.3684 - val_loss: 0.4083\n",
      "Epoch 177/600\n",
      "219/219 [==============================] - 2s 7ms/step - loss: 0.3680 - val_loss: 0.4194\n",
      "Epoch 178/600\n",
      "219/219 [==============================] - 2s 7ms/step - loss: 0.3677 - val_loss: 0.4059\n",
      "Epoch 179/600\n",
      "219/219 [==============================] - 2s 7ms/step - loss: 0.3690 - val_loss: 0.4058\n",
      "Epoch 180/600\n",
      "219/219 [==============================] - 2s 7ms/step - loss: 0.3680 - val_loss: 0.4091\n",
      "Epoch 181/600\n",
      "219/219 [==============================] - 2s 7ms/step - loss: 0.3685 - val_loss: 0.4062\n",
      "Epoch 182/600\n",
      "219/219 [==============================] - 2s 7ms/step - loss: 0.3671 - val_loss: 0.4104\n",
      "Epoch 183/600\n",
      "219/219 [==============================] - 2s 7ms/step - loss: 0.3672 - val_loss: 0.4058\n",
      "Epoch 184/600\n",
      "219/219 [==============================] - 2s 7ms/step - loss: 0.3671 - val_loss: 0.4036\n",
      "Epoch 185/600\n",
      "219/219 [==============================] - 2s 7ms/step - loss: 0.3669 - val_loss: 0.4058\n",
      "Epoch 186/600\n",
      "219/219 [==============================] - 2s 7ms/step - loss: 0.3679 - val_loss: 0.4069\n",
      "Epoch 187/600\n",
      "219/219 [==============================] - 2s 7ms/step - loss: 0.3672 - val_loss: 0.4049\n",
      "Epoch 188/600\n",
      "219/219 [==============================] - 2s 7ms/step - loss: 0.3657 - val_loss: 0.4031\n",
      "Epoch 189/600\n",
      "219/219 [==============================] - 2s 7ms/step - loss: 0.3678 - val_loss: 0.4086\n",
      "Epoch 190/600\n",
      "219/219 [==============================] - 2s 7ms/step - loss: 0.3676 - val_loss: 0.4044\n",
      "Epoch 191/600\n",
      "219/219 [==============================] - 2s 7ms/step - loss: 0.3651 - val_loss: 0.4058\n",
      "Epoch 192/600\n",
      "219/219 [==============================] - 2s 7ms/step - loss: 0.3666 - val_loss: 0.4077\n",
      "Epoch 193/600\n",
      "219/219 [==============================] - 2s 7ms/step - loss: 0.3648 - val_loss: 0.4047\n",
      "Epoch 194/600\n",
      "219/219 [==============================] - 2s 7ms/step - loss: 0.3672 - val_loss: 0.4084\n",
      "Epoch 195/600\n",
      "219/219 [==============================] - 2s 7ms/step - loss: 0.3657 - val_loss: 0.4026\n",
      "Epoch 196/600\n",
      "219/219 [==============================] - 2s 7ms/step - loss: 0.3653 - val_loss: 0.4110\n",
      "Epoch 197/600\n",
      "219/219 [==============================] - 2s 7ms/step - loss: 0.3655 - val_loss: 0.4083\n",
      "Epoch 198/600\n",
      "219/219 [==============================] - 2s 7ms/step - loss: 0.3651 - val_loss: 0.4059\n",
      "Epoch 199/600\n",
      "219/219 [==============================] - 2s 7ms/step - loss: 0.3647 - val_loss: 0.4067\n",
      "Epoch 200/600\n",
      "219/219 [==============================] - 2s 7ms/step - loss: 0.3659 - val_loss: 0.4141\n",
      "Epoch 201/600\n",
      "219/219 [==============================] - 2s 7ms/step - loss: 0.3637 - val_loss: 0.4057\n",
      "Epoch 202/600\n",
      "219/219 [==============================] - 2s 7ms/step - loss: 0.3653 - val_loss: 0.4075\n",
      "Epoch 203/600\n",
      "219/219 [==============================] - 2s 7ms/step - loss: 0.3643 - val_loss: 0.4051\n",
      "Epoch 204/600\n",
      "219/219 [==============================] - 2s 7ms/step - loss: 0.3646 - val_loss: 0.4066\n",
      "Epoch 205/600\n",
      "219/219 [==============================] - 2s 7ms/step - loss: 0.3646 - val_loss: 0.4039\n",
      "Epoch 206/600\n",
      "219/219 [==============================] - 2s 7ms/step - loss: 0.3627 - val_loss: 0.4060\n",
      "Epoch 207/600\n",
      "219/219 [==============================] - 2s 7ms/step - loss: 0.3641 - val_loss: 0.4097\n",
      "Epoch 208/600\n",
      "219/219 [==============================] - 2s 7ms/step - loss: 0.3641 - val_loss: 0.4082\n",
      "Epoch 209/600\n",
      "219/219 [==============================] - 2s 7ms/step - loss: 0.3646 - val_loss: 0.4047\n",
      "Epoch 210/600\n",
      "219/219 [==============================] - 2s 7ms/step - loss: 0.3623 - val_loss: 0.4068\n",
      "Epoch 211/600\n",
      "219/219 [==============================] - 2s 7ms/step - loss: 0.3635 - val_loss: 0.4054\n",
      "Epoch 212/600\n",
      "219/219 [==============================] - 2s 7ms/step - loss: 0.3646 - val_loss: 0.4042\n",
      "Epoch 213/600\n",
      "219/219 [==============================] - 2s 7ms/step - loss: 0.3637 - val_loss: 0.4058\n",
      "Epoch 214/600\n",
      "219/219 [==============================] - 2s 7ms/step - loss: 0.3641 - val_loss: 0.4052\n",
      "Epoch 215/600\n",
      "219/219 [==============================] - 2s 7ms/step - loss: 0.3618 - val_loss: 0.4101\n",
      "Epoch 216/600\n",
      "219/219 [==============================] - 2s 7ms/step - loss: 0.3620 - val_loss: 0.4029\n",
      "Epoch 217/600\n",
      "219/219 [==============================] - 2s 7ms/step - loss: 0.3625 - val_loss: 0.4076\n",
      "Epoch 218/600\n",
      "219/219 [==============================] - 2s 7ms/step - loss: 0.3638 - val_loss: 0.4119\n",
      "Epoch 219/600\n",
      "219/219 [==============================] - 2s 7ms/step - loss: 0.3629 - val_loss: 0.4027\n",
      "Epoch 220/600\n",
      "219/219 [==============================] - 2s 7ms/step - loss: 0.3632 - val_loss: 0.4016\n",
      "Epoch 221/600\n",
      "219/219 [==============================] - 2s 7ms/step - loss: 0.3606 - val_loss: 0.4031\n",
      "Epoch 222/600\n",
      "219/219 [==============================] - 2s 7ms/step - loss: 0.3609 - val_loss: 0.4050\n",
      "Epoch 223/600\n",
      "219/219 [==============================] - 2s 7ms/step - loss: 0.3611 - val_loss: 0.4033\n",
      "Epoch 224/600\n",
      "219/219 [==============================] - 2s 7ms/step - loss: 0.3601 - val_loss: 0.4168\n",
      "Epoch 225/600\n",
      "219/219 [==============================] - 2s 7ms/step - loss: 0.3636 - val_loss: 0.4204\n",
      "Epoch 226/600\n",
      "219/219 [==============================] - 2s 7ms/step - loss: 0.3617 - val_loss: 0.4006\n",
      "Epoch 227/600\n",
      "219/219 [==============================] - 2s 7ms/step - loss: 0.3614 - val_loss: 0.4047\n",
      "Epoch 228/600\n",
      "219/219 [==============================] - 2s 7ms/step - loss: 0.3617 - val_loss: 0.4037\n",
      "Epoch 229/600\n",
      "219/219 [==============================] - 2s 7ms/step - loss: 0.3620 - val_loss: 0.4021\n",
      "Epoch 230/600\n",
      "219/219 [==============================] - 2s 7ms/step - loss: 0.3621 - val_loss: 0.4050\n",
      "Epoch 231/600\n",
      "219/219 [==============================] - 2s 7ms/step - loss: 0.3597 - val_loss: 0.4006\n",
      "Epoch 232/600\n",
      "219/219 [==============================] - 2s 7ms/step - loss: 0.3607 - val_loss: 0.4035\n",
      "Epoch 233/600\n",
      "219/219 [==============================] - 2s 7ms/step - loss: 0.3605 - val_loss: 0.4058\n",
      "Epoch 234/600\n",
      "219/219 [==============================] - 2s 7ms/step - loss: 0.3614 - val_loss: 0.4098\n",
      "Epoch 235/600\n",
      "219/219 [==============================] - 2s 7ms/step - loss: 0.3620 - val_loss: 0.4032\n",
      "Epoch 236/600\n",
      "219/219 [==============================] - 2s 7ms/step - loss: 0.3600 - val_loss: 0.4017\n",
      "Epoch 237/600\n",
      "219/219 [==============================] - 2s 7ms/step - loss: 0.3590 - val_loss: 0.4099\n",
      "Epoch 238/600\n",
      "219/219 [==============================] - 2s 7ms/step - loss: 0.3585 - val_loss: 0.4074\n",
      "Epoch 239/600\n",
      "219/219 [==============================] - 2s 7ms/step - loss: 0.3595 - val_loss: 0.4063\n",
      "Epoch 240/600\n",
      "219/219 [==============================] - 2s 7ms/step - loss: 0.3592 - val_loss: 0.4081\n",
      "Epoch 241/600\n",
      "219/219 [==============================] - 2s 7ms/step - loss: 0.3597 - val_loss: 0.4060\n",
      "Epoch 242/600\n",
      "219/219 [==============================] - 2s 7ms/step - loss: 0.3602 - val_loss: 0.4080\n",
      "Epoch 243/600\n",
      "219/219 [==============================] - 2s 7ms/step - loss: 0.3601 - val_loss: 0.4033\n",
      "Epoch 244/600\n",
      "219/219 [==============================] - 2s 7ms/step - loss: 0.3594 - val_loss: 0.4033\n",
      "Epoch 245/600\n",
      "219/219 [==============================] - 2s 7ms/step - loss: 0.3607 - val_loss: 0.4009\n",
      "Epoch 246/600\n",
      "219/219 [==============================] - 2s 7ms/step - loss: 0.3588 - val_loss: 0.4070\n",
      "Epoch 247/600\n",
      "219/219 [==============================] - 2s 7ms/step - loss: 0.3595 - val_loss: 0.4018\n",
      "Epoch 248/600\n",
      "219/219 [==============================] - 2s 8ms/step - loss: 0.3596 - val_loss: 0.4029\n",
      "Epoch 249/600\n",
      "219/219 [==============================] - 2s 7ms/step - loss: 0.3584 - val_loss: 0.4031\n",
      "Epoch 250/600\n",
      "219/219 [==============================] - 2s 7ms/step - loss: 0.3587 - val_loss: 0.4092\n",
      "Epoch 251/600\n",
      "219/219 [==============================] - 2s 7ms/step - loss: 0.3586 - val_loss: 0.4053\n",
      "Epoch 252/600\n",
      "219/219 [==============================] - 2s 7ms/step - loss: 0.3596 - val_loss: 0.4053\n",
      "Epoch 253/600\n",
      "219/219 [==============================] - 2s 7ms/step - loss: 0.3573 - val_loss: 0.4085\n",
      "Epoch 254/600\n",
      "219/219 [==============================] - 2s 7ms/step - loss: 0.3578 - val_loss: 0.4124\n",
      "Epoch 255/600\n",
      "219/219 [==============================] - 2s 7ms/step - loss: 0.3594 - val_loss: 0.4005\n",
      "Epoch 256/600\n",
      "219/219 [==============================] - 2s 7ms/step - loss: 0.3578 - val_loss: 0.4023\n",
      "Epoch 257/600\n",
      "219/219 [==============================] - 2s 7ms/step - loss: 0.3590 - val_loss: 0.4060\n",
      "Epoch 258/600\n",
      "219/219 [==============================] - 2s 7ms/step - loss: 0.3558 - val_loss: 0.4070\n",
      "Epoch 259/600\n",
      "219/219 [==============================] - 2s 7ms/step - loss: 0.3585 - val_loss: 0.4079\n",
      "Epoch 260/600\n",
      "219/219 [==============================] - 2s 7ms/step - loss: 0.3583 - val_loss: 0.4034\n",
      "Epoch 261/600\n",
      "219/219 [==============================] - 2s 7ms/step - loss: 0.3575 - val_loss: 0.4007\n",
      "Epoch 262/600\n",
      "219/219 [==============================] - 2s 7ms/step - loss: 0.3560 - val_loss: 0.4021\n",
      "Epoch 263/600\n",
      "219/219 [==============================] - 2s 7ms/step - loss: 0.3573 - val_loss: 0.4087\n",
      "Epoch 264/600\n",
      "219/219 [==============================] - 2s 7ms/step - loss: 0.3581 - val_loss: 0.4050\n",
      "Epoch 265/600\n",
      "219/219 [==============================] - 2s 7ms/step - loss: 0.3581 - val_loss: 0.4021\n",
      "Epoch 266/600\n",
      "219/219 [==============================] - 2s 7ms/step - loss: 0.3576 - val_loss: 0.4091\n",
      "Epoch 267/600\n",
      "219/219 [==============================] - 2s 7ms/step - loss: 0.3591 - val_loss: 0.4008\n",
      "Epoch 268/600\n",
      "219/219 [==============================] - 2s 7ms/step - loss: 0.3564 - val_loss: 0.4040\n",
      "Epoch 269/600\n",
      "219/219 [==============================] - 2s 7ms/step - loss: 0.3574 - val_loss: 0.4035\n",
      "Epoch 270/600\n",
      "219/219 [==============================] - 2s 7ms/step - loss: 0.3546 - val_loss: 0.4031\n",
      "Epoch 271/600\n",
      "219/219 [==============================] - 2s 7ms/step - loss: 0.3562 - val_loss: 0.4021\n",
      "Epoch 272/600\n",
      "219/219 [==============================] - 2s 7ms/step - loss: 0.3560 - val_loss: 0.4054\n",
      "Epoch 273/600\n",
      "219/219 [==============================] - 2s 7ms/step - loss: 0.3562 - val_loss: 0.4049\n",
      "Epoch 274/600\n",
      "219/219 [==============================] - 2s 7ms/step - loss: 0.3568 - val_loss: 0.4054\n",
      "Epoch 275/600\n",
      "219/219 [==============================] - 2s 7ms/step - loss: 0.3570 - val_loss: 0.4020\n",
      "Epoch 276/600\n",
      "219/219 [==============================] - 2s 7ms/step - loss: 0.3557 - val_loss: 0.4039\n",
      "Epoch 277/600\n",
      "219/219 [==============================] - 2s 7ms/step - loss: 0.3591 - val_loss: 0.4028\n",
      "Epoch 278/600\n",
      "219/219 [==============================] - 2s 7ms/step - loss: 0.3548 - val_loss: 0.4052\n",
      "Epoch 279/600\n",
      "219/219 [==============================] - 2s 7ms/step - loss: 0.3561 - val_loss: 0.4037\n",
      "Epoch 280/600\n",
      "219/219 [==============================] - 2s 7ms/step - loss: 0.3549 - val_loss: 0.4043\n",
      "Epoch 280: early stopping\n"
     ]
    }
   ],
   "source": [
    "history = nnet.fit(x=X_train, \n",
    "          y=y_train, \n",
    "          epochs=600,\n",
    "          validation_data=(X_test, y_test), verbose=1,\n",
    "           callbacks=[early_stop]\n",
    "          )"
   ]
  },
  {
   "cell_type": "code",
   "execution_count": 30,
   "id": "5e5b581f",
   "metadata": {},
   "outputs": [
    {
     "data": {
      "text/plain": [
       "Text(0.5, 1.0, 'Loss Vs Validation Loss')"
      ]
     },
     "execution_count": 30,
     "metadata": {},
     "output_type": "execute_result"
    },
    {
     "data": {
      "image/png": "[encoded data removed]",
      "text/plain": [
       "<Figure size 640x480 with 1 Axes>"
      ]
     },
     "metadata": {},
     "output_type": "display_data"
    }
   ],
   "source": [
    "model_data = pd.DataFrame(history.history)\n",
    "model_data.plot()\n",
    "plt.title('Loss Vs Validation Loss')"
   ]
  },
  {
   "cell_type": "code",
   "execution_count": 81,
   "id": "f8558888",
   "metadata": {},
   "outputs": [],
   "source": [
    "from sklearn.metrics import confusion_matrix, classification_report\n",
    "def decode(predictions):\n",
    "    # model to decode sigmoid probabilities back to Binary\n",
    "    return [True if pred[0] > 0.5 else False for pred in predictions]\n",
    "\n",
    "def evaluate(model, y_test, output='report'):\n",
    "    predictions = model.predict(X_test)\n",
    "    print()\n",
    "    if output == 'report':\n",
    "        print(classification_report(y_test,decode(predictions)))\n",
    "    elif output=='conf-mat':\n",
    "        sns.heatmap(confusion_matrix(y_test, decode(predictions)), \n",
    "                    annot=True, cmap='Blues',fmt='d', xticklabels=['True','False'], \n",
    "                    yticklabels=['True','False'])\n",
    "        plt.title('Confusion Matrix')\n",
    "        plt.show()\n",
    "\n",
    "        \t\t\t\t"
   ]
  },
  {
   "cell_type": "code",
   "execution_count": 77,
   "id": "682710ef",
   "metadata": {},
   "outputs": [
    {
     "name": "stdout",
     "output_type": "stream",
     "text": [
      "94/94 [==============================] - 0s 3ms/step\n",
      "\n",
      "              precision    recall  f1-score   support\n",
      "\n",
      "       False       0.76      0.86      0.81      1394\n",
      "        True       0.86      0.77      0.81      1606\n",
      "\n",
      "    accuracy                           0.81      3000\n",
      "   macro avg       0.81      0.81      0.81      3000\n",
      "weighted avg       0.82      0.81      0.81      3000\n",
      "\n"
     ]
    }
   ],
   "source": [
    "evaluate(nnet, y_test, output='report')"
   ]
  },
  {
   "cell_type": "code",
   "execution_count": 82,
   "id": "89c7b503",
   "metadata": {},
   "outputs": [
    {
     "name": "stdout",
     "output_type": "stream",
     "text": [
      "94/94 [==============================] - 0s 2ms/step\n",
      "\n"
     ]
    },
    {
     "data": {
      "image/png": "[encoded data removed]",
      "text/plain": [
       "<Figure size 640x480 with 2 Axes>"
      ]
     },
     "metadata": {},
     "output_type": "display_data"
    }
   ],
   "source": [
    "evaluate(nnet, y_test, output='conf-mat')"
   ]
  },
  {
   "cell_type": "markdown",
   "id": "85a4a840",
   "metadata": {},
   "source": [
    "### Suggested Network Architecture "
   ]
  },
  {
   "cell_type": "code",
   "execution_count": 38,
   "id": "360dfefd",
   "metadata": {},
   "outputs": [],
   "source": [
    "nnet_suggested = Sequential()\n",
    "nnet_suggested.add(Dense(units=3, activation='relu', ))\n",
    "nnet_suggested.add(Dense(units=1, activation='sigmoid',))\n",
    "# For a binary classification problem\n",
    "nnet_suggested.compile(loss='binary_crossentropy', optimizer='adam',metrics=['accuracy'])"
   ]
  },
  {
   "cell_type": "code",
   "execution_count": 32,
   "id": "e51cf31a",
   "metadata": {},
   "outputs": [],
   "source": [
    "nnet_suggested.build(input_shape=X_train)"
   ]
  },
  {
   "cell_type": "code",
   "execution_count": 36,
   "id": "ab20469b",
   "metadata": {},
   "outputs": [
    {
     "name": "stdout",
     "output_type": "stream",
     "text": [
      "Model: \"sequential_2\"\n",
      "_________________________________________________________________\n",
      " Layer (type)                Output Shape              Param #   \n",
      "=================================================================\n",
      " dense_8 (Dense)             (0, 1, 2, 3, 4, 5, 3)     21        \n",
      "                                                                 \n",
      " dense_9 (Dense)             (0, 1, 2, 3, 4, 5, 1)     4         \n",
      "                                                                 \n",
      "=================================================================\n",
      "Total params: 25\n",
      "Trainable params: 25\n",
      "Non-trainable params: 0\n",
      "_________________________________________________________________\n"
     ]
    }
   ],
   "source": [
    "nnet_suggested.summary()"
   ]
  },
  {
   "cell_type": "code",
   "execution_count": 39,
   "id": "ab91cfc7",
   "metadata": {},
   "outputs": [
    {
     "name": "stdout",
     "output_type": "stream",
     "text": [
      "Epoch 1/600\n",
      "219/219 [==============================] - 2s 7ms/step - loss: 0.3553 - val_loss: 0.4006\n",
      "Epoch 2/600\n",
      "219/219 [==============================] - 2s 7ms/step - loss: 0.3559 - val_loss: 0.4035\n",
      "Epoch 3/600\n",
      "219/219 [==============================] - 2s 7ms/step - loss: 0.3553 - val_loss: 0.4055\n",
      "Epoch 4/600\n",
      "219/219 [==============================] - 2s 9ms/step - loss: 0.3548 - val_loss: 0.4023\n",
      "Epoch 5/600\n",
      "219/219 [==============================] - 2s 8ms/step - loss: 0.3536 - val_loss: 0.4035\n",
      "Epoch 6/600\n",
      "219/219 [==============================] - 2s 7ms/step - loss: 0.3546 - val_loss: 0.4103\n",
      "Epoch 7/600\n",
      "219/219 [==============================] - 2s 7ms/step - loss: 0.3562 - val_loss: 0.4033\n",
      "Epoch 8/600\n",
      "219/219 [==============================] - 2s 7ms/step - loss: 0.3538 - val_loss: 0.4042\n",
      "Epoch 9/600\n",
      "219/219 [==============================] - 2s 8ms/step - loss: 0.3554 - val_loss: 0.4052\n",
      "Epoch 10/600\n",
      "219/219 [==============================] - 2s 8ms/step - loss: 0.3545 - val_loss: 0.4076\n",
      "Epoch 11/600\n",
      "219/219 [==============================] - 2s 7ms/step - loss: 0.3544 - val_loss: 0.4012\n",
      "Epoch 12/600\n",
      "219/219 [==============================] - 2s 7ms/step - loss: 0.3540 - val_loss: 0.4105\n",
      "Epoch 13/600\n",
      "219/219 [==============================] - 2s 7ms/step - loss: 0.3553 - val_loss: 0.4038\n",
      "Epoch 14/600\n",
      "219/219 [==============================] - 2s 7ms/step - loss: 0.3533 - val_loss: 0.4032\n",
      "Epoch 15/600\n",
      "219/219 [==============================] - 2s 8ms/step - loss: 0.3545 - val_loss: 0.4030\n",
      "Epoch 16/600\n",
      "219/219 [==============================] - 2s 8ms/step - loss: 0.3542 - val_loss: 0.4131\n",
      "Epoch 17/600\n",
      "219/219 [==============================] - 2s 8ms/step - loss: 0.3539 - val_loss: 0.4005\n",
      "Epoch 18/600\n",
      "219/219 [==============================] - 2s 8ms/step - loss: 0.3542 - val_loss: 0.4069\n",
      "Epoch 19/600\n",
      "219/219 [==============================] - 2s 8ms/step - loss: 0.3541 - val_loss: 0.4009\n",
      "Epoch 20/600\n",
      "219/219 [==============================] - 2s 8ms/step - loss: 0.3540 - val_loss: 0.4013\n",
      "Epoch 21/600\n",
      "219/219 [==============================] - 2s 7ms/step - loss: 0.3536 - val_loss: 0.4047\n",
      "Epoch 22/600\n",
      "219/219 [==============================] - 2s 8ms/step - loss: 0.3533 - val_loss: 0.4067\n",
      "Epoch 23/600\n",
      "219/219 [==============================] - 2s 7ms/step - loss: 0.3546 - val_loss: 0.4028\n",
      "Epoch 24/600\n",
      "219/219 [==============================] - 2s 7ms/step - loss: 0.3547 - val_loss: 0.4038\n",
      "Epoch 25/600\n",
      "219/219 [==============================] - 2s 8ms/step - loss: 0.3544 - val_loss: 0.4067\n",
      "Epoch 26/600\n",
      "219/219 [==============================] - 2s 8ms/step - loss: 0.3528 - val_loss: 0.4025\n",
      "Epoch 27/600\n",
      "219/219 [==============================] - 2s 8ms/step - loss: 0.3522 - val_loss: 0.4014\n",
      "Epoch 28/600\n",
      "219/219 [==============================] - 2s 8ms/step - loss: 0.3527 - val_loss: 0.4015\n",
      "Epoch 29/600\n",
      "219/219 [==============================] - 2s 8ms/step - loss: 0.3541 - val_loss: 0.4016\n",
      "Epoch 30/600\n",
      "219/219 [==============================] - 2s 7ms/step - loss: 0.3542 - val_loss: 0.4031\n",
      "Epoch 31/600\n",
      "219/219 [==============================] - 2s 7ms/step - loss: 0.3535 - val_loss: 0.4152\n",
      "Epoch 32/600\n",
      "219/219 [==============================] - 2s 7ms/step - loss: 0.3555 - val_loss: 0.4015\n",
      "Epoch 33/600\n",
      "219/219 [==============================] - 2s 8ms/step - loss: 0.3525 - val_loss: 0.4035\n",
      "Epoch 34/600\n",
      "219/219 [==============================] - 2s 7ms/step - loss: 0.3525 - val_loss: 0.4043\n",
      "Epoch 35/600\n",
      "219/219 [==============================] - 2s 7ms/step - loss: 0.3539 - val_loss: 0.4155\n",
      "Epoch 36/600\n",
      "219/219 [==============================] - 2s 7ms/step - loss: 0.3562 - val_loss: 0.4018\n",
      "Epoch 37/600\n",
      "219/219 [==============================] - 2s 7ms/step - loss: 0.3523 - val_loss: 0.4118\n",
      "Epoch 38/600\n",
      "219/219 [==============================] - 2s 7ms/step - loss: 0.3534 - val_loss: 0.4060\n",
      "Epoch 39/600\n",
      "219/219 [==============================] - 2s 7ms/step - loss: 0.3533 - val_loss: 0.4014\n",
      "Epoch 40/600\n",
      "219/219 [==============================] - 2s 7ms/step - loss: 0.3531 - val_loss: 0.4054\n",
      "Epoch 41/600\n",
      "219/219 [==============================] - 2s 8ms/step - loss: 0.3522 - val_loss: 0.4026\n",
      "Epoch 42/600\n",
      "219/219 [==============================] - 2s 7ms/step - loss: 0.3519 - val_loss: 0.4042\n",
      "Epoch 42: early stopping\n"
     ]
    }
   ],
   "source": [
    "history = nnet.fit(x=X_train, \n",
    "          y=y_train, \n",
    "          epochs=600,\n",
    "          validation_data=(X_test, y_test), verbose=1,\n",
    "           callbacks=[early_stop]\n",
    "          )"
   ]
  },
  {
   "cell_type": "code",
   "execution_count": 84,
   "id": "065a3daa",
   "metadata": {},
   "outputs": [
    {
     "data": {
      "text/plain": [
       "<Axes: >"
      ]
     },
     "execution_count": 84,
     "metadata": {},
     "output_type": "execute_result"
    },
    {
     "data": {
      "image/png": "[encoded data removed]",
      "text/plain": [
       "<Figure size 640x480 with 1 Axes>"
      ]
     },
     "metadata": {},
     "output_type": "display_data"
    }
   ],
   "source": [
    "pd.DataFrame(history.history).plot()"
   ]
  },
  {
   "cell_type": "code",
   "execution_count": 85,
   "id": "0ee7f982",
   "metadata": {},
   "outputs": [
    {
     "name": "stdout",
     "output_type": "stream",
     "text": [
      "94/94 [==============================] - 0s 2ms/step\n",
      "\n",
      "              precision    recall  f1-score   support\n",
      "\n",
      "       False       0.36      0.52      0.42      1394\n",
      "        True       0.32      0.20      0.25      1606\n",
      "\n",
      "    accuracy                           0.35      3000\n",
      "   macro avg       0.34      0.36      0.33      3000\n",
      "weighted avg       0.34      0.35      0.33      3000\n",
      "\n"
     ]
    }
   ],
   "source": [
    "evaluate(nnet_suggested, y_test, output='report')"
   ]
  },
  {
   "cell_type": "code",
   "execution_count": 86,
   "id": "77c5793f",
   "metadata": {},
   "outputs": [
    {
     "name": "stdout",
     "output_type": "stream",
     "text": [
      "94/94 [==============================] - 0s 2ms/step\n",
      "\n"
     ]
    },
    {
     "data": {
      "image/png": "[encoded data removed]",
      "text/plain": [
       "<Figure size 640x480 with 2 Axes>"
      ]
     },
     "metadata": {},
     "output_type": "display_data"
    }
   ],
   "source": [
    "evaluate(nnet_suggested, y_test, output='conf-mat')"
   ]
  },
  {
   "cell_type": "markdown",
   "id": "f40b788e",
   "metadata": {},
   "source": [
    "### Type of Crime"
   ]
  },
  {
   "cell_type": "code",
   "execution_count": 26,
   "id": "8685636b",
   "metadata": {},
   "outputs": [
    {
     "data": {
      "text/html": [
       "<div>\n",
       "<style scoped>\n",
       "    .dataframe tbody tr th:only-of-type {\n",
       "        vertical-align: middle;\n",
       "    }\n",
       "\n",
       "    .dataframe tbody tr th {\n",
       "        vertical-align: top;\n",
       "    }\n",
       "\n",
       "    .dataframe thead th {\n",
       "        text-align: right;\n",
       "    }\n",
       "</style>\n",
       "<table border=\"1\" class=\"dataframe\">\n",
       "  <thead>\n",
       "    <tr style=\"text-align: right;\">\n",
       "      <th></th>\n",
       "      <th>ID</th>\n",
       "      <th>Case Number</th>\n",
       "      <th>Date</th>\n",
       "      <th>Block</th>\n",
       "      <th>IUCR</th>\n",
       "      <th>Primary Type</th>\n",
       "      <th>Description</th>\n",
       "      <th>Location Description</th>\n",
       "      <th>Arrest</th>\n",
       "      <th>Domestic</th>\n",
       "      <th>...</th>\n",
       "      <th>Y Coordinate</th>\n",
       "      <th>Year</th>\n",
       "      <th>Updated On</th>\n",
       "      <th>Latitude</th>\n",
       "      <th>Longitude</th>\n",
       "      <th>Location</th>\n",
       "      <th>Community Area Name</th>\n",
       "      <th>Dristrict-Name</th>\n",
       "      <th>SocioEconomic-Status</th>\n",
       "      <th>dayofweek</th>\n",
       "    </tr>\n",
       "  </thead>\n",
       "  <tbody>\n",
       "    <tr>\n",
       "      <th>0</th>\n",
       "      <td>11515814</td>\n",
       "      <td>JB527247</td>\n",
       "      <td>2018-01-01 01:00:00</td>\n",
       "      <td>023XX S HOMAN AVE</td>\n",
       "      <td>0560</td>\n",
       "      <td>ASSAULT</td>\n",
       "      <td>SIMPLE</td>\n",
       "      <td>APARTMENT</td>\n",
       "      <td>False</td>\n",
       "      <td>False</td>\n",
       "      <td>...</td>\n",
       "      <td>1888193.0</td>\n",
       "      <td>2018</td>\n",
       "      <td>11/28/2018 04:14:58 PM</td>\n",
       "      <td>41.849030</td>\n",
       "      <td>-87.710045</td>\n",
       "      <td>(41.849030217, -87.710044807)</td>\n",
       "      <td>South Lawndale</td>\n",
       "      <td>Ogden</td>\n",
       "      <td>High Income</td>\n",
       "      <td>Mon</td>\n",
       "    </tr>\n",
       "    <tr>\n",
       "      <th>1</th>\n",
       "      <td>11210595</td>\n",
       "      <td>JB125173</td>\n",
       "      <td>2018-01-01 01:00:00</td>\n",
       "      <td>007XX W GRACE ST</td>\n",
       "      <td>0890</td>\n",
       "      <td>THEFT</td>\n",
       "      <td>FROM BUILDING</td>\n",
       "      <td>APARTMENT</td>\n",
       "      <td>False</td>\n",
       "      <td>False</td>\n",
       "      <td>...</td>\n",
       "      <td>1925645.0</td>\n",
       "      <td>2018</td>\n",
       "      <td>05/04/2018 03:51:04 PM</td>\n",
       "      <td>41.951457</td>\n",
       "      <td>-87.648582</td>\n",
       "      <td>(41.951457303, -87.648582038)</td>\n",
       "      <td>Lake View</td>\n",
       "      <td>Town Hall</td>\n",
       "      <td>Low Income</td>\n",
       "      <td>Mon</td>\n",
       "    </tr>\n",
       "  </tbody>\n",
       "</table>\n",
       "<p>2 rows × 26 columns</p>\n",
       "</div>"
      ],
      "text/plain": [
       "         ID Case Number                Date              Block  IUCR   \n",
       "0  11515814    JB527247 2018-01-01 01:00:00  023XX S HOMAN AVE  0560  \\\n",
       "1  11210595    JB125173 2018-01-01 01:00:00   007XX W GRACE ST  0890   \n",
       "\n",
       "  Primary Type    Description Location Description  Arrest  Domestic  ...   \n",
       "0      ASSAULT         SIMPLE            APARTMENT   False     False  ...  \\\n",
       "1        THEFT  FROM BUILDING            APARTMENT   False     False  ...   \n",
       "\n",
       "   Y Coordinate  Year              Updated On   Latitude  Longitude   \n",
       "0     1888193.0  2018  11/28/2018 04:14:58 PM  41.849030 -87.710045  \\\n",
       "1     1925645.0  2018  05/04/2018 03:51:04 PM  41.951457 -87.648582   \n",
       "\n",
       "                        Location  Community Area Name  Dristrict-Name   \n",
       "0  (41.849030217, -87.710044807)       South Lawndale           Ogden  \\\n",
       "1  (41.951457303, -87.648582038)            Lake View       Town Hall   \n",
       "\n",
       "  SocioEconomic-Status  dayofweek  \n",
       "0          High Income        Mon  \n",
       "1           Low Income        Mon  \n",
       "\n",
       "[2 rows x 26 columns]"
      ]
     },
     "execution_count": 26,
     "metadata": {},
     "output_type": "execute_result"
    }
   ],
   "source": [
    "crimes.head(2)"
   ]
  },
  {
   "cell_type": "code",
   "execution_count": 27,
   "id": "f2aca141",
   "metadata": {},
   "outputs": [
    {
     "data": {
      "text/plain": [
       "Index(['ID', 'Case Number', 'Date', 'Block', 'IUCR', 'Primary Type',\n",
       "       'Description', 'Location Description', 'Arrest', 'Domestic', 'Beat',\n",
       "       'District', 'Ward', 'Community Area', 'FBI Code', 'X Coordinate',\n",
       "       'Y Coordinate', 'Year', 'Updated On', 'Latitude', 'Longitude',\n",
       "       'Location', 'Community Area Name', 'Dristrict-Name',\n",
       "       'SocioEconomic-Status', 'dayofweek'],\n",
       "      dtype='object')"
      ]
     },
     "execution_count": 27,
     "metadata": {},
     "output_type": "execute_result"
    }
   ],
   "source": [
    "crimes.columns"
   ]
  },
  {
   "cell_type": "code",
   "execution_count": 28,
   "id": "a64cfcd4",
   "metadata": {},
   "outputs": [
    {
     "data": {
      "text/plain": [
       "0          Mon\n",
       "1          Mon\n",
       "2          Mon\n",
       "3          Mon\n",
       "4          Mon\n",
       "          ... \n",
       "1175724    Sat\n",
       "1175725    Sat\n",
       "1175726    Sat\n",
       "1175727    Sat\n",
       "1175728    Sat\n",
       "Name: dayofweek, Length: 1175729, dtype: object"
      ]
     },
     "execution_count": 28,
     "metadata": {},
     "output_type": "execute_result"
    }
   ],
   "source": [
    "crimes['Date'] = pd.to_datetime(crimes['Date'])\n",
    "crimes['dayofweek'] = crimes[\"Date\"].dt.strftime(\"%a\")\n",
    "crimes['dayofweek']"
   ]
  },
  {
   "cell_type": "code",
   "execution_count": 29,
   "id": "a5f5703e",
   "metadata": {},
   "outputs": [],
   "source": [
    "features = ['Arrest', 'Description','Community Area','Location Description','Domestic','SocioEconomic-Status','dayofweek']\n",
    "target = 'Primary Type'"
   ]
  },
  {
   "cell_type": "code",
   "execution_count": 30,
   "id": "89a2c9fc",
   "metadata": {},
   "outputs": [
    {
     "data": {
      "text/plain": [
       "0                      ASSAULT\n",
       "1                        THEFT\n",
       "2          CRIM SEXUAL ASSAULT\n",
       "3                      BATTERY\n",
       "4                        THEFT\n",
       "                  ...         \n",
       "1175724        CRIMINAL DAMAGE\n",
       "1175725                ASSAULT\n",
       "1175726                ASSAULT\n",
       "1175727                BATTERY\n",
       "1175728                ASSAULT\n",
       "Name: Primary Type, Length: 1175729, dtype: object"
      ]
     },
     "execution_count": 30,
     "metadata": {},
     "output_type": "execute_result"
    }
   ],
   "source": [
    "df = crimes[target]\n",
    "df"
   ]
  },
  {
   "cell_type": "code",
   "execution_count": 31,
   "id": "8bfdad17",
   "metadata": {},
   "outputs": [
    {
     "data": {
      "text/plain": [
       "<Axes: ylabel='Primary Type'>"
      ]
     },
     "execution_count": 31,
     "metadata": {},
     "output_type": "execute_result"
    },
    {
     "data": {
      "image/png": "[encoded data removed]",
      "text/plain": [
       "<Figure size 640x480 with 1 Axes>"
      ]
     },
     "metadata": {},
     "output_type": "display_data"
    }
   ],
   "source": [
    "df.value_counts().plot(kind='barh')"
   ]
  },
  {
   "cell_type": "code",
   "execution_count": 32,
   "id": "6e69c1e0",
   "metadata": {},
   "outputs": [
    {
     "name": "stderr",
     "output_type": "stream",
     "text": [
      "/var/folders/5r/pnlff12n2d55g65_tnn3b1pw0000gn/T/ipykernel_66104/3531833374.py:3: SettingWithCopyWarning: \n",
      "A value is trying to be set on a copy of a slice from a DataFrame.\n",
      "Try using .loc[row_indexer,col_indexer] = value instead\n",
      "\n",
      "See the caveats in the documentation: https://pandas.pydata.org/pandas-docs/stable/user_guide/indexing.html#returning-a-view-versus-a-copy\n",
      "  featured_data[target] = crimes[target]\n"
     ]
    }
   ],
   "source": [
    "crimesofinterest = ['THEFT','ASSUALT','BATTERY','ROBBERY','NARCOTICS','CRIMINAL DAMAGE']\n",
    "featured_data = crimes[features]\n",
    "featured_data[target] = crimes[target]"
   ]
  },
  {
   "cell_type": "code",
   "execution_count": 33,
   "id": "2a93fe1b",
   "metadata": {},
   "outputs": [],
   "source": [
    "featured_data = featured_data[featured_data['Primary Type'].isin(crimesofinterest)]"
   ]
  },
  {
   "cell_type": "code",
   "execution_count": 34,
   "id": "214c04ff",
   "metadata": {},
   "outputs": [
    {
     "data": {
      "text/plain": [
       "array(['THEFT', 'BATTERY', 'CRIMINAL DAMAGE', 'NARCOTICS', 'ROBBERY'],\n",
       "      dtype=object)"
      ]
     },
     "execution_count": 34,
     "metadata": {},
     "output_type": "execute_result"
    }
   ],
   "source": [
    "featured_data[target].unique()"
   ]
  },
  {
   "cell_type": "markdown",
   "id": "8486141a",
   "metadata": {},
   "source": [
    "### Encoding"
   ]
  },
  {
   "cell_type": "code",
   "execution_count": 35,
   "id": "e293aff4",
   "metadata": {},
   "outputs": [
    {
     "data": {
      "text/html": [
       "<div>\n",
       "<style scoped>\n",
       "    .dataframe tbody tr th:only-of-type {\n",
       "        vertical-align: middle;\n",
       "    }\n",
       "\n",
       "    .dataframe tbody tr th {\n",
       "        vertical-align: top;\n",
       "    }\n",
       "\n",
       "    .dataframe thead th {\n",
       "        text-align: right;\n",
       "    }\n",
       "</style>\n",
       "<table border=\"1\" class=\"dataframe\">\n",
       "  <thead>\n",
       "    <tr style=\"text-align: right;\">\n",
       "      <th></th>\n",
       "      <th>Arrest</th>\n",
       "      <th>Description</th>\n",
       "      <th>Community Area</th>\n",
       "      <th>Location Description</th>\n",
       "      <th>Domestic</th>\n",
       "      <th>SocioEconomic-Status</th>\n",
       "      <th>dayofweek</th>\n",
       "      <th>Primary Type</th>\n",
       "    </tr>\n",
       "  </thead>\n",
       "  <tbody>\n",
       "    <tr>\n",
       "      <th>1</th>\n",
       "      <td>False</td>\n",
       "      <td>0</td>\n",
       "      <td>6</td>\n",
       "      <td>0</td>\n",
       "      <td>False</td>\n",
       "      <td>0</td>\n",
       "      <td>0</td>\n",
       "      <td>THEFT</td>\n",
       "    </tr>\n",
       "    <tr>\n",
       "      <th>3</th>\n",
       "      <td>True</td>\n",
       "      <td>1</td>\n",
       "      <td>55</td>\n",
       "      <td>1</td>\n",
       "      <td>True</td>\n",
       "      <td>1</td>\n",
       "      <td>0</td>\n",
       "      <td>BATTERY</td>\n",
       "    </tr>\n",
       "    <tr>\n",
       "      <th>4</th>\n",
       "      <td>False</td>\n",
       "      <td>2</td>\n",
       "      <td>8</td>\n",
       "      <td>1</td>\n",
       "      <td>False</td>\n",
       "      <td>0</td>\n",
       "      <td>0</td>\n",
       "      <td>THEFT</td>\n",
       "    </tr>\n",
       "    <tr>\n",
       "      <th>7</th>\n",
       "      <td>False</td>\n",
       "      <td>0</td>\n",
       "      <td>8</td>\n",
       "      <td>2</td>\n",
       "      <td>False</td>\n",
       "      <td>0</td>\n",
       "      <td>0</td>\n",
       "      <td>THEFT</td>\n",
       "    </tr>\n",
       "    <tr>\n",
       "      <th>8</th>\n",
       "      <td>False</td>\n",
       "      <td>2</td>\n",
       "      <td>8</td>\n",
       "      <td>1</td>\n",
       "      <td>False</td>\n",
       "      <td>0</td>\n",
       "      <td>0</td>\n",
       "      <td>THEFT</td>\n",
       "    </tr>\n",
       "    <tr>\n",
       "      <th>...</th>\n",
       "      <td>...</td>\n",
       "      <td>...</td>\n",
       "      <td>...</td>\n",
       "      <td>...</td>\n",
       "      <td>...</td>\n",
       "      <td>...</td>\n",
       "      <td>...</td>\n",
       "      <td>...</td>\n",
       "    </tr>\n",
       "    <tr>\n",
       "      <th>1175716</th>\n",
       "      <td>False</td>\n",
       "      <td>6</td>\n",
       "      <td>61</td>\n",
       "      <td>12</td>\n",
       "      <td>False</td>\n",
       "      <td>2</td>\n",
       "      <td>4</td>\n",
       "      <td>CRIMINAL DAMAGE</td>\n",
       "    </tr>\n",
       "    <tr>\n",
       "      <th>1175717</th>\n",
       "      <td>False</td>\n",
       "      <td>68</td>\n",
       "      <td>60</td>\n",
       "      <td>13</td>\n",
       "      <td>False</td>\n",
       "      <td>1</td>\n",
       "      <td>4</td>\n",
       "      <td>BATTERY</td>\n",
       "    </tr>\n",
       "    <tr>\n",
       "      <th>1175722</th>\n",
       "      <td>False</td>\n",
       "      <td>60</td>\n",
       "      <td>3</td>\n",
       "      <td>53</td>\n",
       "      <td>False</td>\n",
       "      <td>1</td>\n",
       "      <td>4</td>\n",
       "      <td>BATTERY</td>\n",
       "    </tr>\n",
       "    <tr>\n",
       "      <th>1175724</th>\n",
       "      <td>False</td>\n",
       "      <td>6</td>\n",
       "      <td>26</td>\n",
       "      <td>12</td>\n",
       "      <td>False</td>\n",
       "      <td>2</td>\n",
       "      <td>4</td>\n",
       "      <td>CRIMINAL DAMAGE</td>\n",
       "    </tr>\n",
       "    <tr>\n",
       "      <th>1175727</th>\n",
       "      <td>False</td>\n",
       "      <td>10</td>\n",
       "      <td>28</td>\n",
       "      <td>36</td>\n",
       "      <td>False</td>\n",
       "      <td>1</td>\n",
       "      <td>4</td>\n",
       "      <td>BATTERY</td>\n",
       "    </tr>\n",
       "  </tbody>\n",
       "</table>\n",
       "<p>700833 rows × 8 columns</p>\n",
       "</div>"
      ],
      "text/plain": [
       "         Arrest  Description  Community Area  Location Description  Domestic   \n",
       "1         False            0               6                     0     False  \\\n",
       "3          True            1              55                     1      True   \n",
       "4         False            2               8                     1     False   \n",
       "7         False            0               8                     2     False   \n",
       "8         False            2               8                     1     False   \n",
       "...         ...          ...             ...                   ...       ...   \n",
       "1175716   False            6              61                    12     False   \n",
       "1175717   False           68              60                    13     False   \n",
       "1175722   False           60               3                    53     False   \n",
       "1175724   False            6              26                    12     False   \n",
       "1175727   False           10              28                    36     False   \n",
       "\n",
       "         SocioEconomic-Status  dayofweek     Primary Type  \n",
       "1                           0          0            THEFT  \n",
       "3                           1          0          BATTERY  \n",
       "4                           0          0            THEFT  \n",
       "7                           0          0            THEFT  \n",
       "8                           0          0            THEFT  \n",
       "...                       ...        ...              ...  \n",
       "1175716                     2          4  CRIMINAL DAMAGE  \n",
       "1175717                     1          4          BATTERY  \n",
       "1175722                     1          4          BATTERY  \n",
       "1175724                     2          4  CRIMINAL DAMAGE  \n",
       "1175727                     1          4          BATTERY  \n",
       "\n",
       "[700833 rows x 8 columns]"
      ]
     },
     "execution_count": 35,
     "metadata": {},
     "output_type": "execute_result"
    }
   ],
   "source": [
    "### Incarceration Data\n",
    "crime_type = featured_data.copy(deep=True)\n",
    "\n",
    "# select features and target variable\n",
    "features = ['Arrest', 'Description','Community Area','Location Description','Domestic','SocioEconomic-Status','dayofweek']\n",
    "target = 'Primary Type'\n",
    "\n",
    "# encode categorical features\n",
    "for feature in features:\n",
    "    if crime_type[feature].dtype == 'object':\n",
    "        crime_type[feature] = pd.factorize(crime_type[feature])[0]\n",
    "        \n",
    "crime_type"
   ]
  },
  {
   "cell_type": "markdown",
   "id": "c54eff78",
   "metadata": {},
   "source": [
    "### Scaling Everything in Target Column"
   ]
  },
  {
   "cell_type": "code",
   "execution_count": 36,
   "id": "3172b056",
   "metadata": {},
   "outputs": [
    {
     "name": "stdout",
     "output_type": "stream",
     "text": [
      "Features ['Arrest', 'Description', 'Community Area', 'Location Description', 'Domestic', 'SocioEconomic-Status', 'dayofweek']\n",
      "Class: Primary Type\n",
      "Class Balance: Primary Type\n",
      "THEFT              259911\n",
      "BATTERY            222924\n",
      "CRIMINAL DAMAGE    131871\n",
      "NARCOTICS           43335\n",
      "ROBBERY             42792\n",
      "Name: count, dtype: int64\n",
      "- Undersampling Data.\n",
      "Class distribution after undersampling:\n",
      "Primary Type\n",
      "BATTERY            42792\n",
      "CRIMINAL DAMAGE    42792\n",
      "NARCOTICS          42792\n",
      "ROBBERY            42792\n",
      "THEFT              42792\n",
      "Name: count, dtype: int64\n",
      "Scaling Numericals\n"
     ]
    }
   ],
   "source": [
    "# apply near miss\n",
    "from imblearn.under_sampling import NearMiss\n",
    "\n",
    "X, y = crime_type[features], crime_type[target]\n",
    "\n",
    "print(f\"Features {features}\")\n",
    "print(f'Class: {target}')\n",
    "\n",
    "print(f'Class Balance: {y.value_counts()}')\n",
    "nr = NearMiss()\n",
    "X_resampled, y_resampled = nr.fit_resample(X, y)\n",
    "\n",
    "print('- Undersampling Data.')\n",
    "\n",
    "print('Class distribution after undersampling:')\n",
    "print(pd.Series(y_resampled).value_counts())\n",
    "\n",
    "print('Scaling Numericals')\n",
    "# create a StandardScaler object\n",
    "scaler = StandardScaler()\n",
    "\n",
    "# fit the scaler on the data\n",
    "scaler.fit(X)\n",
    "\n",
    "# transform the data using the scaler\n",
    "X_scaled = scaler.transform(X_resampled)"
   ]
  },
  {
   "cell_type": "code",
   "execution_count": 37,
   "id": "e25f32cc",
   "metadata": {},
   "outputs": [
    {
     "data": {
      "text/html": [
       "<div>\n",
       "<style scoped>\n",
       "    .dataframe tbody tr th:only-of-type {\n",
       "        vertical-align: middle;\n",
       "    }\n",
       "\n",
       "    .dataframe tbody tr th {\n",
       "        vertical-align: top;\n",
       "    }\n",
       "\n",
       "    .dataframe thead th {\n",
       "        text-align: right;\n",
       "    }\n",
       "</style>\n",
       "<table border=\"1\" class=\"dataframe\">\n",
       "  <thead>\n",
       "    <tr style=\"text-align: right;\">\n",
       "      <th></th>\n",
       "      <th>0</th>\n",
       "      <th>1</th>\n",
       "      <th>2</th>\n",
       "      <th>3</th>\n",
       "      <th>4</th>\n",
       "      <th>5</th>\n",
       "      <th>6</th>\n",
       "    </tr>\n",
       "  </thead>\n",
       "  <tbody>\n",
       "    <tr>\n",
       "      <th>0</th>\n",
       "      <td>-0.432065</td>\n",
       "      <td>1.863687</td>\n",
       "      <td>1.448067</td>\n",
       "      <td>-0.477780</td>\n",
       "      <td>-0.513857</td>\n",
       "      <td>1.348395</td>\n",
       "      <td>-0.515214</td>\n",
       "    </tr>\n",
       "    <tr>\n",
       "      <th>1</th>\n",
       "      <td>-0.432065</td>\n",
       "      <td>1.863687</td>\n",
       "      <td>1.448067</td>\n",
       "      <td>-0.477780</td>\n",
       "      <td>-0.513857</td>\n",
       "      <td>1.348395</td>\n",
       "      <td>-0.515214</td>\n",
       "    </tr>\n",
       "    <tr>\n",
       "      <th>2</th>\n",
       "      <td>-0.432065</td>\n",
       "      <td>1.863687</td>\n",
       "      <td>0.606077</td>\n",
       "      <td>-0.323050</td>\n",
       "      <td>-0.513857</td>\n",
       "      <td>-0.040202</td>\n",
       "      <td>-1.019331</td>\n",
       "    </tr>\n",
       "    <tr>\n",
       "      <th>3</th>\n",
       "      <td>-0.432065</td>\n",
       "      <td>1.863687</td>\n",
       "      <td>-0.469798</td>\n",
       "      <td>-0.323050</td>\n",
       "      <td>-0.513857</td>\n",
       "      <td>1.348395</td>\n",
       "      <td>1.501255</td>\n",
       "    </tr>\n",
       "    <tr>\n",
       "      <th>4</th>\n",
       "      <td>-0.432065</td>\n",
       "      <td>1.863687</td>\n",
       "      <td>-0.516576</td>\n",
       "      <td>0.037986</td>\n",
       "      <td>-0.513857</td>\n",
       "      <td>-0.040202</td>\n",
       "      <td>1.501255</td>\n",
       "    </tr>\n",
       "    <tr>\n",
       "      <th>...</th>\n",
       "      <td>...</td>\n",
       "      <td>...</td>\n",
       "      <td>...</td>\n",
       "      <td>...</td>\n",
       "      <td>...</td>\n",
       "      <td>...</td>\n",
       "      <td>...</td>\n",
       "    </tr>\n",
       "    <tr>\n",
       "      <th>213955</th>\n",
       "      <td>-0.432065</td>\n",
       "      <td>-0.246879</td>\n",
       "      <td>-0.750462</td>\n",
       "      <td>-0.477780</td>\n",
       "      <td>-0.513857</td>\n",
       "      <td>-0.040202</td>\n",
       "      <td>-1.523448</td>\n",
       "    </tr>\n",
       "    <tr>\n",
       "      <th>213956</th>\n",
       "      <td>-0.432065</td>\n",
       "      <td>-0.246879</td>\n",
       "      <td>0.231859</td>\n",
       "      <td>-0.477780</td>\n",
       "      <td>-0.513857</td>\n",
       "      <td>-1.428799</td>\n",
       "      <td>-1.523448</td>\n",
       "    </tr>\n",
       "    <tr>\n",
       "      <th>213957</th>\n",
       "      <td>2.314468</td>\n",
       "      <td>-0.246879</td>\n",
       "      <td>1.541621</td>\n",
       "      <td>-0.477780</td>\n",
       "      <td>-0.513857</td>\n",
       "      <td>-0.040202</td>\n",
       "      <td>-1.523448</td>\n",
       "    </tr>\n",
       "    <tr>\n",
       "      <th>213958</th>\n",
       "      <td>-0.432065</td>\n",
       "      <td>-0.246879</td>\n",
       "      <td>-0.750462</td>\n",
       "      <td>-0.477780</td>\n",
       "      <td>-0.513857</td>\n",
       "      <td>-0.040202</td>\n",
       "      <td>-1.523448</td>\n",
       "    </tr>\n",
       "    <tr>\n",
       "      <th>213959</th>\n",
       "      <td>-0.432065</td>\n",
       "      <td>-0.246879</td>\n",
       "      <td>0.325414</td>\n",
       "      <td>-0.374627</td>\n",
       "      <td>-0.513857</td>\n",
       "      <td>-0.040202</td>\n",
       "      <td>-1.523448</td>\n",
       "    </tr>\n",
       "  </tbody>\n",
       "</table>\n",
       "<p>213960 rows × 7 columns</p>\n",
       "</div>"
      ],
      "text/plain": [
       "               0         1         2         3         4         5         6\n",
       "0      -0.432065  1.863687  1.448067 -0.477780 -0.513857  1.348395 -0.515214\n",
       "1      -0.432065  1.863687  1.448067 -0.477780 -0.513857  1.348395 -0.515214\n",
       "2      -0.432065  1.863687  0.606077 -0.323050 -0.513857 -0.040202 -1.019331\n",
       "3      -0.432065  1.863687 -0.469798 -0.323050 -0.513857  1.348395  1.501255\n",
       "4      -0.432065  1.863687 -0.516576  0.037986 -0.513857 -0.040202  1.501255\n",
       "...          ...       ...       ...       ...       ...       ...       ...\n",
       "213955 -0.432065 -0.246879 -0.750462 -0.477780 -0.513857 -0.040202 -1.523448\n",
       "213956 -0.432065 -0.246879  0.231859 -0.477780 -0.513857 -1.428799 -1.523448\n",
       "213957  2.314468 -0.246879  1.541621 -0.477780 -0.513857 -0.040202 -1.523448\n",
       "213958 -0.432065 -0.246879 -0.750462 -0.477780 -0.513857 -0.040202 -1.523448\n",
       "213959 -0.432065 -0.246879  0.325414 -0.374627 -0.513857 -0.040202 -1.523448\n",
       "\n",
       "[213960 rows x 7 columns]"
      ]
     },
     "execution_count": 37,
     "metadata": {},
     "output_type": "execute_result"
    }
   ],
   "source": [
    "df_nrsc = pd.DataFrame(X_scaled)\n",
    "df_nrsc "
   ]
  },
  {
   "cell_type": "code",
   "execution_count": 38,
   "id": "bc320463",
   "metadata": {},
   "outputs": [],
   "source": [
    "final_data = pd.concat([df_nrsc,pd.get_dummies(y_resampled)],axis=1)"
   ]
  },
  {
   "cell_type": "code",
   "execution_count": 39,
   "id": "80b7de90",
   "metadata": {},
   "outputs": [
    {
     "data": {
      "text/html": [
       "<div>\n",
       "<style scoped>\n",
       "    .dataframe tbody tr th:only-of-type {\n",
       "        vertical-align: middle;\n",
       "    }\n",
       "\n",
       "    .dataframe tbody tr th {\n",
       "        vertical-align: top;\n",
       "    }\n",
       "\n",
       "    .dataframe thead th {\n",
       "        text-align: right;\n",
       "    }\n",
       "</style>\n",
       "<table border=\"1\" class=\"dataframe\">\n",
       "  <thead>\n",
       "    <tr style=\"text-align: right;\">\n",
       "      <th></th>\n",
       "      <th>0</th>\n",
       "      <th>1</th>\n",
       "      <th>2</th>\n",
       "      <th>3</th>\n",
       "      <th>4</th>\n",
       "      <th>5</th>\n",
       "      <th>6</th>\n",
       "      <th>BATTERY</th>\n",
       "      <th>CRIMINAL DAMAGE</th>\n",
       "      <th>NARCOTICS</th>\n",
       "      <th>ROBBERY</th>\n",
       "      <th>THEFT</th>\n",
       "    </tr>\n",
       "  </thead>\n",
       "  <tbody>\n",
       "    <tr>\n",
       "      <th>0</th>\n",
       "      <td>-0.432065</td>\n",
       "      <td>1.863687</td>\n",
       "      <td>1.448067</td>\n",
       "      <td>-0.477780</td>\n",
       "      <td>-0.513857</td>\n",
       "      <td>1.348395</td>\n",
       "      <td>-0.515214</td>\n",
       "      <td>True</td>\n",
       "      <td>False</td>\n",
       "      <td>False</td>\n",
       "      <td>False</td>\n",
       "      <td>False</td>\n",
       "    </tr>\n",
       "    <tr>\n",
       "      <th>1</th>\n",
       "      <td>-0.432065</td>\n",
       "      <td>1.863687</td>\n",
       "      <td>1.448067</td>\n",
       "      <td>-0.477780</td>\n",
       "      <td>-0.513857</td>\n",
       "      <td>1.348395</td>\n",
       "      <td>-0.515214</td>\n",
       "      <td>True</td>\n",
       "      <td>False</td>\n",
       "      <td>False</td>\n",
       "      <td>False</td>\n",
       "      <td>False</td>\n",
       "    </tr>\n",
       "    <tr>\n",
       "      <th>2</th>\n",
       "      <td>-0.432065</td>\n",
       "      <td>1.863687</td>\n",
       "      <td>0.606077</td>\n",
       "      <td>-0.323050</td>\n",
       "      <td>-0.513857</td>\n",
       "      <td>-0.040202</td>\n",
       "      <td>-1.019331</td>\n",
       "      <td>True</td>\n",
       "      <td>False</td>\n",
       "      <td>False</td>\n",
       "      <td>False</td>\n",
       "      <td>False</td>\n",
       "    </tr>\n",
       "    <tr>\n",
       "      <th>3</th>\n",
       "      <td>-0.432065</td>\n",
       "      <td>1.863687</td>\n",
       "      <td>-0.469798</td>\n",
       "      <td>-0.323050</td>\n",
       "      <td>-0.513857</td>\n",
       "      <td>1.348395</td>\n",
       "      <td>1.501255</td>\n",
       "      <td>True</td>\n",
       "      <td>False</td>\n",
       "      <td>False</td>\n",
       "      <td>False</td>\n",
       "      <td>False</td>\n",
       "    </tr>\n",
       "    <tr>\n",
       "      <th>4</th>\n",
       "      <td>-0.432065</td>\n",
       "      <td>1.863687</td>\n",
       "      <td>-0.516576</td>\n",
       "      <td>0.037986</td>\n",
       "      <td>-0.513857</td>\n",
       "      <td>-0.040202</td>\n",
       "      <td>1.501255</td>\n",
       "      <td>True</td>\n",
       "      <td>False</td>\n",
       "      <td>False</td>\n",
       "      <td>False</td>\n",
       "      <td>False</td>\n",
       "    </tr>\n",
       "    <tr>\n",
       "      <th>...</th>\n",
       "      <td>...</td>\n",
       "      <td>...</td>\n",
       "      <td>...</td>\n",
       "      <td>...</td>\n",
       "      <td>...</td>\n",
       "      <td>...</td>\n",
       "      <td>...</td>\n",
       "      <td>...</td>\n",
       "      <td>...</td>\n",
       "      <td>...</td>\n",
       "      <td>...</td>\n",
       "      <td>...</td>\n",
       "    </tr>\n",
       "    <tr>\n",
       "      <th>213955</th>\n",
       "      <td>-0.432065</td>\n",
       "      <td>-0.246879</td>\n",
       "      <td>-0.750462</td>\n",
       "      <td>-0.477780</td>\n",
       "      <td>-0.513857</td>\n",
       "      <td>-0.040202</td>\n",
       "      <td>-1.523448</td>\n",
       "      <td>False</td>\n",
       "      <td>False</td>\n",
       "      <td>False</td>\n",
       "      <td>False</td>\n",
       "      <td>True</td>\n",
       "    </tr>\n",
       "    <tr>\n",
       "      <th>213956</th>\n",
       "      <td>-0.432065</td>\n",
       "      <td>-0.246879</td>\n",
       "      <td>0.231859</td>\n",
       "      <td>-0.477780</td>\n",
       "      <td>-0.513857</td>\n",
       "      <td>-1.428799</td>\n",
       "      <td>-1.523448</td>\n",
       "      <td>False</td>\n",
       "      <td>False</td>\n",
       "      <td>False</td>\n",
       "      <td>False</td>\n",
       "      <td>True</td>\n",
       "    </tr>\n",
       "    <tr>\n",
       "      <th>213957</th>\n",
       "      <td>2.314468</td>\n",
       "      <td>-0.246879</td>\n",
       "      <td>1.541621</td>\n",
       "      <td>-0.477780</td>\n",
       "      <td>-0.513857</td>\n",
       "      <td>-0.040202</td>\n",
       "      <td>-1.523448</td>\n",
       "      <td>False</td>\n",
       "      <td>False</td>\n",
       "      <td>False</td>\n",
       "      <td>False</td>\n",
       "      <td>True</td>\n",
       "    </tr>\n",
       "    <tr>\n",
       "      <th>213958</th>\n",
       "      <td>-0.432065</td>\n",
       "      <td>-0.246879</td>\n",
       "      <td>-0.750462</td>\n",
       "      <td>-0.477780</td>\n",
       "      <td>-0.513857</td>\n",
       "      <td>-0.040202</td>\n",
       "      <td>-1.523448</td>\n",
       "      <td>False</td>\n",
       "      <td>False</td>\n",
       "      <td>False</td>\n",
       "      <td>False</td>\n",
       "      <td>True</td>\n",
       "    </tr>\n",
       "    <tr>\n",
       "      <th>213959</th>\n",
       "      <td>-0.432065</td>\n",
       "      <td>-0.246879</td>\n",
       "      <td>0.325414</td>\n",
       "      <td>-0.374627</td>\n",
       "      <td>-0.513857</td>\n",
       "      <td>-0.040202</td>\n",
       "      <td>-1.523448</td>\n",
       "      <td>False</td>\n",
       "      <td>False</td>\n",
       "      <td>False</td>\n",
       "      <td>False</td>\n",
       "      <td>True</td>\n",
       "    </tr>\n",
       "  </tbody>\n",
       "</table>\n",
       "<p>213960 rows × 12 columns</p>\n",
       "</div>"
      ],
      "text/plain": [
       "               0         1         2         3         4         5         6   \n",
       "0      -0.432065  1.863687  1.448067 -0.477780 -0.513857  1.348395 -0.515214  \\\n",
       "1      -0.432065  1.863687  1.448067 -0.477780 -0.513857  1.348395 -0.515214   \n",
       "2      -0.432065  1.863687  0.606077 -0.323050 -0.513857 -0.040202 -1.019331   \n",
       "3      -0.432065  1.863687 -0.469798 -0.323050 -0.513857  1.348395  1.501255   \n",
       "4      -0.432065  1.863687 -0.516576  0.037986 -0.513857 -0.040202  1.501255   \n",
       "...          ...       ...       ...       ...       ...       ...       ...   \n",
       "213955 -0.432065 -0.246879 -0.750462 -0.477780 -0.513857 -0.040202 -1.523448   \n",
       "213956 -0.432065 -0.246879  0.231859 -0.477780 -0.513857 -1.428799 -1.523448   \n",
       "213957  2.314468 -0.246879  1.541621 -0.477780 -0.513857 -0.040202 -1.523448   \n",
       "213958 -0.432065 -0.246879 -0.750462 -0.477780 -0.513857 -0.040202 -1.523448   \n",
       "213959 -0.432065 -0.246879  0.325414 -0.374627 -0.513857 -0.040202 -1.523448   \n",
       "\n",
       "        BATTERY  CRIMINAL DAMAGE  NARCOTICS  ROBBERY  THEFT  \n",
       "0          True            False      False    False  False  \n",
       "1          True            False      False    False  False  \n",
       "2          True            False      False    False  False  \n",
       "3          True            False      False    False  False  \n",
       "4          True            False      False    False  False  \n",
       "...         ...              ...        ...      ...    ...  \n",
       "213955    False            False      False    False   True  \n",
       "213956    False            False      False    False   True  \n",
       "213957    False            False      False    False   True  \n",
       "213958    False            False      False    False   True  \n",
       "213959    False            False      False    False   True  \n",
       "\n",
       "[213960 rows x 12 columns]"
      ]
     },
     "execution_count": 39,
     "metadata": {},
     "output_type": "execute_result"
    }
   ],
   "source": [
    "final_data"
   ]
  },
  {
   "cell_type": "code",
   "execution_count": 40,
   "id": "590c27a5",
   "metadata": {},
   "outputs": [
    {
     "data": {
      "text/plain": [
       "['BATTERY', 'CRIMINAL DAMAGE', 'NARCOTICS', 'ROBBERY', 'THEFT']"
      ]
     },
     "execution_count": 40,
     "metadata": {},
     "output_type": "execute_result"
    }
   ],
   "source": [
    "classes = list(final_data.columns[-5:])\n",
    "classes"
   ]
  },
  {
   "cell_type": "code",
   "execution_count": 41,
   "id": "42451c7d",
   "metadata": {},
   "outputs": [],
   "source": [
    "X = final_data.drop(classes, axis=1)\n",
    "y = final_data[classes]\n",
    "X = X.values\n",
    "y = y.values"
   ]
  },
  {
   "cell_type": "code",
   "execution_count": 42,
   "id": "58eacede",
   "metadata": {},
   "outputs": [],
   "source": [
    "X_train, X_test, y_train, y_test = train_test_split(X, y, \n",
    "                                                    test_size=0.3, random_state=101)"
   ]
  },
  {
   "cell_type": "markdown",
   "id": "27b77019",
   "metadata": {},
   "source": [
    "### Multi-Class Classification"
   ]
  },
  {
   "cell_type": "code",
   "execution_count": 43,
   "id": "e6b903a5",
   "metadata": {},
   "outputs": [],
   "source": [
    "from tensorflow.keras.models import Sequential\n",
    "from tensorflow.keras.layers import Dense, Activation,Dropout\n",
    "\n",
    "from tensorflow.keras.callbacks import EarlyStopping"
   ]
  },
  {
   "cell_type": "code",
   "execution_count": 45,
   "id": "f4ee6bec",
   "metadata": {},
   "outputs": [],
   "source": [
    "nnet_multiclass = Sequential()\n",
    "\n",
    "nnet_multiclass.add(Dense(units=16,activation='relu'))\n",
    "nnet_multiclass.add(Dense(units=25,activation='relu'))\n",
    "nnet_multiclass.add(Dense(units=5, activation='softmax'))\n",
    "\n",
    "nnet_multiclass.compile(loss='categorical_crossentropy',metrics=['accuracy'],optimizer='adam')"
   ]
  },
  {
   "cell_type": "code",
   "execution_count": 46,
   "id": "7daea35e",
   "metadata": {},
   "outputs": [
    {
     "data": {
      "text/plain": [
       "(149772, 7)"
      ]
     },
     "execution_count": 46,
     "metadata": {},
     "output_type": "execute_result"
    }
   ],
   "source": [
    "X_train.shape"
   ]
  },
  {
   "cell_type": "code",
   "execution_count": 47,
   "id": "3acaecd9",
   "metadata": {},
   "outputs": [],
   "source": [
    "nnet_multiclass.build(input_shape=X_train.shape)"
   ]
  },
  {
   "cell_type": "code",
   "execution_count": 48,
   "id": "47795daa",
   "metadata": {},
   "outputs": [
    {
     "name": "stdout",
     "output_type": "stream",
     "text": [
      "Model: \"sequential_1\"\n",
      "_________________________________________________________________\n",
      " Layer (type)                Output Shape              Param #   \n",
      "=================================================================\n",
      " dense_3 (Dense)             (149772, 16)              128       \n",
      "                                                                 \n",
      " dense_4 (Dense)             (149772, 25)              425       \n",
      "                                                                 \n",
      " dense_5 (Dense)             (149772, 5)               130       \n",
      "                                                                 \n",
      "=================================================================\n",
      "Total params: 683\n",
      "Trainable params: 683\n",
      "Non-trainable params: 0\n",
      "_________________________________________________________________\n"
     ]
    }
   ],
   "source": [
    "nnet_multiclass.summary()"
   ]
  },
  {
   "cell_type": "code",
   "execution_count": 49,
   "id": "351e2050",
   "metadata": {},
   "outputs": [],
   "source": [
    "early_stop = EarlyStopping(monitor='val_accuracy', mode='max', verbose=1, patience=7)"
   ]
  },
  {
   "cell_type": "code",
   "execution_count": 50,
   "id": "470c9841",
   "metadata": {
    "scrolled": true
   },
   "outputs": [
    {
     "name": "stdout",
     "output_type": "stream",
     "text": [
      "Epoch 1/50\n"
     ]
    },
    {
     "name": "stderr",
     "output_type": "stream",
     "text": [
      "2023-04-30 21:07:41.743895: W tensorflow/tsl/platform/profile_utils/cpu_utils.cc:128] Failed to get CPU frequency: 0 Hz\n"
     ]
    },
    {
     "name": "stdout",
     "output_type": "stream",
     "text": [
      "4681/4681 [==============================] - 60s 13ms/step - loss: 0.5976 - accuracy: 0.7927 - val_loss: 0.3138 - val_accuracy: 0.9172\n",
      "Epoch 2/50\n",
      "4681/4681 [==============================] - 58s 12ms/step - loss: 0.2344 - accuracy: 0.9379 - val_loss: 0.1964 - val_accuracy: 0.9448\n",
      "Epoch 3/50\n",
      "4681/4681 [==============================] - 60s 13ms/step - loss: 0.1839 - accuracy: 0.9467 - val_loss: 0.1747 - val_accuracy: 0.9497\n",
      "Epoch 4/50\n",
      "4681/4681 [==============================] - 59s 13ms/step - loss: 0.1686 - accuracy: 0.9522 - val_loss: 0.1669 - val_accuracy: 0.9531\n",
      "Epoch 5/50\n",
      "4681/4681 [==============================] - 56s 12ms/step - loss: 0.1569 - accuracy: 0.9556 - val_loss: 0.1487 - val_accuracy: 0.9583\n",
      "Epoch 6/50\n",
      "4681/4681 [==============================] - 54s 12ms/step - loss: 0.1444 - accuracy: 0.9621 - val_loss: 0.1398 - val_accuracy: 0.9662\n",
      "Epoch 7/50\n",
      "4681/4681 [==============================] - 59s 13ms/step - loss: 0.1347 - accuracy: 0.9661 - val_loss: 0.1303 - val_accuracy: 0.9674\n",
      "Epoch 8/50\n",
      "4681/4681 [==============================] - 63s 13ms/step - loss: 0.1288 - accuracy: 0.9669 - val_loss: 0.1277 - val_accuracy: 0.9673\n",
      "Epoch 8: early stopping\n"
     ]
    }
   ],
   "source": [
    "multiclass_data = nnet_multiclass.fit(x=X_train, \n",
    "          y=y_train, \n",
    "          epochs=50,\n",
    "          validation_data=(X_test, y_test), verbose=1,\n",
    "           callbacks=[early_stop]\n",
    "          )"
   ]
  },
  {
   "cell_type": "code",
   "execution_count": 53,
   "id": "f41b21bb",
   "metadata": {},
   "outputs": [],
   "source": [
    "mc_df = pd.DataFrame(multiclass_data.history)"
   ]
  },
  {
   "cell_type": "code",
   "execution_count": 56,
   "id": "274d0b26",
   "metadata": {},
   "outputs": [
    {
     "data": {
      "text/plain": [
       "<Axes: >"
      ]
     },
     "execution_count": 56,
     "metadata": {},
     "output_type": "execute_result"
    },
    {
     "data": {
      "image/png": "[encoded data removed]",
      "text/plain": [
       "<Figure size 640x480 with 1 Axes>"
      ]
     },
     "metadata": {},
     "output_type": "display_data"
    }
   ],
   "source": [
    "mc_df[['val_accuracy','accuracy']].plot()"
   ]
  },
  {
   "cell_type": "code",
   "execution_count": 82,
   "id": "c9f792c6",
   "metadata": {},
   "outputs": [
    {
     "data": {
      "text/plain": [
       "<matplotlib.legend.Legend at 0x32f84efe0>"
      ]
     },
     "execution_count": 82,
     "metadata": {},
     "output_type": "execute_result"
    },
    {
     "data": {
      "image/png": "[encoded data removed]",
      "text/plain": [
       "<Figure size 640x480 with 1 Axes>"
      ]
     },
     "metadata": {},
     "output_type": "display_data"
    }
   ],
   "source": [
    "mc_df[['loss','val_loss']].plot()\n",
    "plt.legend(loc='upper left')"
   ]
  },
  {
   "cell_type": "code",
   "execution_count": 59,
   "id": "faa2a241",
   "metadata": {},
   "outputs": [],
   "source": [
    "from sklearn.metrics import classification_report, confusion_matrix"
   ]
  },
  {
   "cell_type": "code",
   "execution_count": 61,
   "id": "26b430ae",
   "metadata": {},
   "outputs": [
    {
     "name": "stdout",
     "output_type": "stream",
     "text": [
      "2006/2006 [==============================] - 3s 2ms/step\n"
     ]
    }
   ],
   "source": [
    "predictions = nnet_multiclass.predict(X_test)"
   ]
  },
  {
   "cell_type": "code",
   "execution_count": 74,
   "id": "a975a11a",
   "metadata": {},
   "outputs": [],
   "source": [
    "pred_encoded = [classes[predictions[i].argmax()] for i in range(len(predictions))]"
   ]
  },
  {
   "cell_type": "code",
   "execution_count": 71,
   "id": "58c4028d",
   "metadata": {},
   "outputs": [],
   "source": [
    "_, _, _, y = train_test_split(X, y_resampled, test_size=0.3, random_state=101)"
   ]
  },
  {
   "cell_type": "code",
   "execution_count": 80,
   "id": "a1d5eae6",
   "metadata": {},
   "outputs": [
    {
     "name": "stdout",
     "output_type": "stream",
     "text": [
      "                 precision    recall  f1-score   support\n",
      "\n",
      "        BATTERY       0.99      0.92      0.96     12839\n",
      "CRIMINAL DAMAGE       1.00      0.97      0.98     12777\n",
      "      NARCOTICS       0.94      0.99      0.96     12937\n",
      "        ROBBERY       0.92      0.95      0.93     12692\n",
      "          THEFT       1.00      1.00      1.00     12943\n",
      "\n",
      "       accuracy                           0.97     64188\n",
      "      macro avg       0.97      0.97      0.97     64188\n",
      "   weighted avg       0.97      0.97      0.97     64188\n",
      "\n"
     ]
    }
   ],
   "source": [
    "print(classification_report(y_true=y,y_pred=pred_encoded))"
   ]
  },
  {
   "cell_type": "code",
   "execution_count": 83,
   "id": "4064f016",
   "metadata": {},
   "outputs": [
    {
     "data": {
      "text/plain": [
       "Text(0.5, 1.0, 'Confusion Matrix')"
      ]
     },
     "execution_count": 83,
     "metadata": {},
     "output_type": "execute_result"
    },
    {
     "data": {
      "image/png": "[encoded data removed]",
      "text/plain": [
       "<Figure size 640x480 with 2 Axes>"
      ]
     },
     "metadata": {},
     "output_type": "display_data"
    }
   ],
   "source": [
    "sns.heatmap(confusion_matrix(pred_encoded, y), annot=True, cmap='Greens', fmt='d', \n",
    "            xticklabels=classes, yticklabels=classes)\n",
    "plt.xlabel('Predictions')\n",
    "plt.ylabel('True')\n",
    "plt.title('Confusion Matrix')"
   ]
  },
  {
   "cell_type": "code",
   "execution_count": 81,
   "id": "2aa31482",
   "metadata": {},
   "outputs": [],
   "source": [
    "nnet_multiclass.save('CRIME_CLASSIFIER_NET.h5')"
   ]
  },
  {
   "cell_type": "code",
   "execution_count": 96,
   "id": "26e10463",
   "metadata": {},
   "outputs": [],
   "source": [
    "#final_data.to_csv('nn_data.csv')\n",
    "x = pd.DataFrame(X_test)\n",
    "x['y'] = y \n",
    "x = x.dropna()\n",
    "x.to_csv('nn_data.csv')"
   ]
  },
  {
   "cell_type": "code",
   "execution_count": null,
   "id": "8b2b56b8",
   "metadata": {},
   "outputs": [],
   "source": []
  },
  {
   "cell_type": "markdown",
   "id": "a9dff59d",
   "metadata": {},
   "source": [
    "### Loading model"
   ]
  },
  {
   "cell_type": "code",
   "execution_count": 100,
   "id": "6d8c68a9",
   "metadata": {},
   "outputs": [],
   "source": [
    "data = pd.read_csv('nn_data.csv').drop('Unnamed: 0',axis=1)\n",
    "X, y = data.drop('y',axis=1), data['y']"
   ]
  },
  {
   "cell_type": "code",
   "execution_count": 119,
   "id": "9c3e182b",
   "metadata": {},
   "outputs": [
    {
     "data": {
      "text/plain": [
       "(0    2.314468\n",
       " 1   -0.195402\n",
       " 2   -0.282690\n",
       " 3   -0.477780\n",
       " 4   -0.513857\n",
       " 5    1.348395\n",
       " 6    0.493020\n",
       " Name: 13164, dtype: float64,\n",
       " 'BATTERY')"
      ]
     },
     "execution_count": 119,
     "metadata": {},
     "output_type": "execute_result"
    }
   ],
   "source": [
    "y_idx = np.random.choice(X.index)\n",
    "X.iloc[np.random.choice(X.index),:], y[y_idx]"
   ]
  },
  {
   "cell_type": "code",
   "execution_count": null,
   "id": "3aac3178",
   "metadata": {},
   "outputs": [],
   "source": [
    "X.iloc[np.random.choice(.index),:]"
   ]
  },
  {
   "cell_type": "code",
   "execution_count": 112,
   "id": "13419cda",
   "metadata": {},
   "outputs": [
    {
     "data": {
      "text/plain": [
       "0   -0.432065\n",
       "1   -0.298357\n",
       "2    0.325414\n",
       "3   -0.684086\n",
       "4   -0.513857\n",
       "5   -0.040202\n",
       "6   -1.523448\n",
       "Name: 2824, dtype: float64"
      ]
     },
     "execution_count": 112,
     "metadata": {},
     "output_type": "execute_result"
    }
   ],
   "source": [
    "X.iloc[np.random.choice(X.index),:]"
   ]
  },
  {
   "cell_type": "code",
   "execution_count": 86,
   "id": "db0ad5b9",
   "metadata": {},
   "outputs": [],
   "source": [
    "import tensorflow as tf\n",
    "from tensorflow import keras\n",
    "\n",
    "# Load the trained model\n",
    "model = keras.models.load_model('CRIME_CLASSIFIER_NET.h5')"
   ]
  },
  {
   "cell_type": "code",
   "execution_count": 109,
   "id": "85bb3246",
   "metadata": {},
   "outputs": [
    {
     "name": "stdout",
     "output_type": "stream",
     "text": [
      "Model: \"sequential_1\"\n",
      "_________________________________________________________________\n",
      " Layer (type)                Output Shape              Param #   \n",
      "=================================================================\n",
      " dense_3 (Dense)             (None, 16)                128       \n",
      "                                                                 \n",
      " dense_4 (Dense)             (None, 25)                425       \n",
      "                                                                 \n",
      " dense_5 (Dense)             (None, 5)                 130       \n",
      "                                                                 \n",
      "=================================================================\n",
      "Total params: 683\n",
      "Trainable params: 683\n",
      "Non-trainable params: 0\n",
      "_________________________________________________________________\n"
     ]
    }
   ],
   "source": [
    "model.summary()"
   ]
  },
  {
   "cell_type": "code",
   "execution_count": 114,
   "id": "6e76b6e6",
   "metadata": {},
   "outputs": [
    {
     "data": {
      "text/plain": [
       "(19216, 7)"
      ]
     },
     "execution_count": 114,
     "metadata": {},
     "output_type": "execute_result"
    }
   ],
   "source": [
    "X.shape"
   ]
  },
  {
   "cell_type": "code",
   "execution_count": 117,
   "id": "8a2e9373",
   "metadata": {},
   "outputs": [
    {
     "data": {
      "text/plain": [
       "array([[-0.43206474, -0.24687942, -0.93757046, -0.47778013, -0.51385697,\n",
       "        -0.04020164, -0.01109682]])"
      ]
     },
     "execution_count": 117,
     "metadata": {},
     "output_type": "execute_result"
    }
   ],
   "source": [
    "np.array(X.iloc[np.random.choice(X.index),:]).reshape(-1,7)"
   ]
  },
  {
   "cell_type": "code",
   "execution_count": 118,
   "id": "a3657e12",
   "metadata": {},
   "outputs": [
    {
     "name": "stdout",
     "output_type": "stream",
     "text": [
      "1/1 [==============================] - 0s 469ms/step\n"
     ]
    },
    {
     "data": {
      "text/plain": [
       "array([[2.8713357e-05, 5.1019951e-23, 1.0105472e-21, 1.6068623e-05,\n",
       "        9.9995518e-01]], dtype=float32)"
      ]
     },
     "execution_count": 118,
     "metadata": {},
     "output_type": "execute_result"
    }
   ],
   "source": [
    "model.predict(np.array(X.iloc[np.random.choice(X.index),:]).reshape(-1,7))"
   ]
  },
  {
   "cell_type": "code",
   "execution_count": 120,
   "id": "fe462c75",
   "metadata": {},
   "outputs": [
    {
     "data": {
      "text/plain": [
       "['Arrest',\n",
       " 'Description',\n",
       " 'Community Area',\n",
       " 'Location Description',\n",
       " 'Domestic',\n",
       " 'SocioEconomic-Status',\n",
       " 'dayofweek']"
      ]
     },
     "execution_count": 120,
     "metadata": {},
     "output_type": "execute_result"
    }
   ],
   "source": [
    "['Arrest', 'Description', 'Community Area', 'Location Description', 'Domestic', 'SocioEconomic-Status', 'dayofweek']"
   ]
  },
  {
   "cell_type": "code",
   "execution_count": 123,
   "id": "1c8e78ce",
   "metadata": {},
   "outputs": [
    {
     "data": {
      "text/plain": [
       "Arrest                        False\n",
       "Description                  SIMPLE\n",
       "Community Area                   30\n",
       "Location Description      APARTMENT\n",
       "Domestic                      False\n",
       "SocioEconomic-Status    High Income\n",
       "dayofweek                       Mon\n",
       "Name: 0, dtype: object"
      ]
     },
     "execution_count": 123,
     "metadata": {},
     "output_type": "execute_result"
    }
   ],
   "source": [
    "test = crimes[features].iloc[0]\n",
    "test"
   ]
  },
  {
   "cell_type": "code",
   "execution_count": 144,
   "id": "a0d5f27f",
   "metadata": {},
   "outputs": [],
   "source": [
    "#crimes[features]"
   ]
  },
  {
   "cell_type": "code",
   "execution_count": 146,
   "id": "ffc838d6",
   "metadata": {},
   "outputs": [
    {
     "data": {
      "text/html": [
       "<div>\n",
       "<style scoped>\n",
       "    .dataframe tbody tr th:only-of-type {\n",
       "        vertical-align: middle;\n",
       "    }\n",
       "\n",
       "    .dataframe tbody tr th {\n",
       "        vertical-align: top;\n",
       "    }\n",
       "\n",
       "    .dataframe thead th {\n",
       "        text-align: right;\n",
       "    }\n",
       "</style>\n",
       "<table border=\"1\" class=\"dataframe\">\n",
       "  <thead>\n",
       "    <tr style=\"text-align: right;\">\n",
       "      <th></th>\n",
       "      <th>Arrest</th>\n",
       "      <th>Description</th>\n",
       "      <th>Community Area</th>\n",
       "      <th>Location Description</th>\n",
       "      <th>Domestic</th>\n",
       "      <th>SocioEconomic-Status</th>\n",
       "      <th>dayofweek</th>\n",
       "      <th>Primary Type</th>\n",
       "    </tr>\n",
       "  </thead>\n",
       "  <tbody>\n",
       "    <tr>\n",
       "      <th>1</th>\n",
       "      <td>False</td>\n",
       "      <td>0</td>\n",
       "      <td>6</td>\n",
       "      <td>0</td>\n",
       "      <td>False</td>\n",
       "      <td>0</td>\n",
       "      <td>0</td>\n",
       "      <td>THEFT</td>\n",
       "    </tr>\n",
       "    <tr>\n",
       "      <th>3</th>\n",
       "      <td>True</td>\n",
       "      <td>1</td>\n",
       "      <td>55</td>\n",
       "      <td>1</td>\n",
       "      <td>True</td>\n",
       "      <td>1</td>\n",
       "      <td>0</td>\n",
       "      <td>BATTERY</td>\n",
       "    </tr>\n",
       "    <tr>\n",
       "      <th>4</th>\n",
       "      <td>False</td>\n",
       "      <td>2</td>\n",
       "      <td>8</td>\n",
       "      <td>1</td>\n",
       "      <td>False</td>\n",
       "      <td>0</td>\n",
       "      <td>0</td>\n",
       "      <td>THEFT</td>\n",
       "    </tr>\n",
       "    <tr>\n",
       "      <th>7</th>\n",
       "      <td>False</td>\n",
       "      <td>0</td>\n",
       "      <td>8</td>\n",
       "      <td>2</td>\n",
       "      <td>False</td>\n",
       "      <td>0</td>\n",
       "      <td>0</td>\n",
       "      <td>THEFT</td>\n",
       "    </tr>\n",
       "    <tr>\n",
       "      <th>8</th>\n",
       "      <td>False</td>\n",
       "      <td>2</td>\n",
       "      <td>8</td>\n",
       "      <td>1</td>\n",
       "      <td>False</td>\n",
       "      <td>0</td>\n",
       "      <td>0</td>\n",
       "      <td>THEFT</td>\n",
       "    </tr>\n",
       "  </tbody>\n",
       "</table>\n",
       "</div>"
      ],
      "text/plain": [
       "   Arrest  Description  Community Area  Location Description  Domestic   \n",
       "1   False            0               6                     0     False  \\\n",
       "3    True            1              55                     1      True   \n",
       "4   False            2               8                     1     False   \n",
       "7   False            0               8                     2     False   \n",
       "8   False            2               8                     1     False   \n",
       "\n",
       "   SocioEconomic-Status  dayofweek Primary Type  \n",
       "1                     0          0        THEFT  \n",
       "3                     1          0      BATTERY  \n",
       "4                     0          0        THEFT  \n",
       "7                     0          0        THEFT  \n",
       "8                     0          0        THEFT  "
      ]
     },
     "execution_count": 146,
     "metadata": {},
     "output_type": "execute_result"
    }
   ],
   "source": [
    "crime_type.head(5)"
   ]
  },
  {
   "cell_type": "code",
   "execution_count": 151,
   "id": "6ee92ac8",
   "metadata": {},
   "outputs": [
    {
     "data": {
      "text/plain": [
       "Index(['Description', 'Location Description', 'SocioEconomic-Status',\n",
       "       'dayofweek'],\n",
       "      dtype='object')"
      ]
     },
     "execution_count": 151,
     "metadata": {},
     "output_type": "execute_result"
    }
   ],
   "source": [
    "crime_type[wanted].columns"
   ]
  },
  {
   "cell_type": "code",
   "execution_count": 162,
   "id": "0cb2956e",
   "metadata": {},
   "outputs": [
    {
     "data": {
      "text/html": [
       "<div>\n",
       "<style scoped>\n",
       "    .dataframe tbody tr th:only-of-type {\n",
       "        vertical-align: middle;\n",
       "    }\n",
       "\n",
       "    .dataframe tbody tr th {\n",
       "        vertical-align: top;\n",
       "    }\n",
       "\n",
       "    .dataframe thead th {\n",
       "        text-align: right;\n",
       "    }\n",
       "</style>\n",
       "<table border=\"1\" class=\"dataframe\">\n",
       "  <thead>\n",
       "    <tr style=\"text-align: right;\">\n",
       "      <th></th>\n",
       "      <th>Arrest</th>\n",
       "      <th>Description</th>\n",
       "      <th>Community Area</th>\n",
       "      <th>Location Description</th>\n",
       "      <th>Domestic</th>\n",
       "      <th>SocioEconomic-Status</th>\n",
       "      <th>dayofweek</th>\n",
       "    </tr>\n",
       "  </thead>\n",
       "  <tbody>\n",
       "    <tr>\n",
       "      <th>0</th>\n",
       "      <td>False</td>\n",
       "      <td>SIMPLE</td>\n",
       "      <td>30</td>\n",
       "      <td>APARTMENT</td>\n",
       "      <td>False</td>\n",
       "      <td>High Income</td>\n",
       "      <td>Mon</td>\n",
       "    </tr>\n",
       "    <tr>\n",
       "      <th>1</th>\n",
       "      <td>False</td>\n",
       "      <td>FROM BUILDING</td>\n",
       "      <td>6</td>\n",
       "      <td>APARTMENT</td>\n",
       "      <td>False</td>\n",
       "      <td>Low Income</td>\n",
       "      <td>Mon</td>\n",
       "    </tr>\n",
       "    <tr>\n",
       "      <th>2</th>\n",
       "      <td>False</td>\n",
       "      <td>NON-AGGRAVATED</td>\n",
       "      <td>3</td>\n",
       "      <td>RESIDENCE</td>\n",
       "      <td>True</td>\n",
       "      <td>Moderate Income</td>\n",
       "      <td>Mon</td>\n",
       "    </tr>\n",
       "    <tr>\n",
       "      <th>3</th>\n",
       "      <td>True</td>\n",
       "      <td>DOMESTIC BATTERY SIMPLE</td>\n",
       "      <td>55</td>\n",
       "      <td>BAR OR TAVERN</td>\n",
       "      <td>True</td>\n",
       "      <td>Moderate Income</td>\n",
       "      <td>Mon</td>\n",
       "    </tr>\n",
       "    <tr>\n",
       "      <th>4</th>\n",
       "      <td>False</td>\n",
       "      <td>POCKET-PICKING</td>\n",
       "      <td>8</td>\n",
       "      <td>BAR OR TAVERN</td>\n",
       "      <td>False</td>\n",
       "      <td>Low Income</td>\n",
       "      <td>Mon</td>\n",
       "    </tr>\n",
       "    <tr>\n",
       "      <th>...</th>\n",
       "      <td>...</td>\n",
       "      <td>...</td>\n",
       "      <td>...</td>\n",
       "      <td>...</td>\n",
       "      <td>...</td>\n",
       "      <td>...</td>\n",
       "      <td>...</td>\n",
       "    </tr>\n",
       "    <tr>\n",
       "      <th>1175724</th>\n",
       "      <td>False</td>\n",
       "      <td>TO PROPERTY</td>\n",
       "      <td>26</td>\n",
       "      <td>SMALL RETAIL STORE</td>\n",
       "      <td>False</td>\n",
       "      <td>High Income</td>\n",
       "      <td>Sat</td>\n",
       "    </tr>\n",
       "    <tr>\n",
       "      <th>1175725</th>\n",
       "      <td>False</td>\n",
       "      <td>SIMPLE</td>\n",
       "      <td>29</td>\n",
       "      <td>APARTMENT</td>\n",
       "      <td>False</td>\n",
       "      <td>High Income</td>\n",
       "      <td>Sat</td>\n",
       "    </tr>\n",
       "    <tr>\n",
       "      <th>1175726</th>\n",
       "      <td>False</td>\n",
       "      <td>AGGRAVATED - HANDGUN</td>\n",
       "      <td>68</td>\n",
       "      <td>APARTMENT</td>\n",
       "      <td>True</td>\n",
       "      <td>High Income</td>\n",
       "      <td>Sat</td>\n",
       "    </tr>\n",
       "    <tr>\n",
       "      <th>1175727</th>\n",
       "      <td>False</td>\n",
       "      <td>SIMPLE</td>\n",
       "      <td>28</td>\n",
       "      <td>BARBERSHOP</td>\n",
       "      <td>False</td>\n",
       "      <td>Moderate Income</td>\n",
       "      <td>Sat</td>\n",
       "    </tr>\n",
       "    <tr>\n",
       "      <th>1175728</th>\n",
       "      <td>False</td>\n",
       "      <td>SIMPLE</td>\n",
       "      <td>22</td>\n",
       "      <td>COMMERCIAL / BUSINESS OFFICE</td>\n",
       "      <td>False</td>\n",
       "      <td>Low Income</td>\n",
       "      <td>Sat</td>\n",
       "    </tr>\n",
       "  </tbody>\n",
       "</table>\n",
       "<p>1175729 rows × 7 columns</p>\n",
       "</div>"
      ],
      "text/plain": [
       "         Arrest              Description  Community Area   \n",
       "0         False                   SIMPLE              30  \\\n",
       "1         False            FROM BUILDING               6   \n",
       "2         False           NON-AGGRAVATED               3   \n",
       "3          True  DOMESTIC BATTERY SIMPLE              55   \n",
       "4         False           POCKET-PICKING               8   \n",
       "...         ...                      ...             ...   \n",
       "1175724   False              TO PROPERTY              26   \n",
       "1175725   False                   SIMPLE              29   \n",
       "1175726   False     AGGRAVATED - HANDGUN              68   \n",
       "1175727   False                   SIMPLE              28   \n",
       "1175728   False                   SIMPLE              22   \n",
       "\n",
       "                 Location Description  Domestic SocioEconomic-Status dayofweek  \n",
       "0                           APARTMENT     False          High Income       Mon  \n",
       "1                           APARTMENT     False           Low Income       Mon  \n",
       "2                           RESIDENCE      True      Moderate Income       Mon  \n",
       "3                       BAR OR TAVERN      True      Moderate Income       Mon  \n",
       "4                       BAR OR TAVERN     False           Low Income       Mon  \n",
       "...                               ...       ...                  ...       ...  \n",
       "1175724            SMALL RETAIL STORE     False          High Income       Sat  \n",
       "1175725                     APARTMENT     False          High Income       Sat  \n",
       "1175726                     APARTMENT      True          High Income       Sat  \n",
       "1175727                    BARBERSHOP     False      Moderate Income       Sat  \n",
       "1175728  COMMERCIAL / BUSINESS OFFICE     False           Low Income       Sat  \n",
       "\n",
       "[1175729 rows x 7 columns]"
      ]
     },
     "execution_count": 162,
     "metadata": {},
     "output_type": "execute_result"
    }
   ],
   "source": []
  },
  {
   "cell_type": "code",
   "execution_count": 163,
   "id": "d54234ac",
   "metadata": {},
   "outputs": [
    {
     "name": "stderr",
     "output_type": "stream",
     "text": [
      "/var/folders/5r/pnlff12n2d55g65_tnn3b1pw0000gn/T/ipykernel_66104/3176939844.py:3: SettingWithCopyWarning: \n",
      "A value is trying to be set on a copy of a slice from a DataFrame.\n",
      "Try using .loc[row_indexer,col_indexer] = value instead\n",
      "\n",
      "See the caveats in the documentation: https://pandas.pydata.org/pandas-docs/stable/user_guide/indexing.html#returning-a-view-versus-a-copy\n",
      "  x[f\"map{i}\"] = crime_type[col]\n",
      "/var/folders/5r/pnlff12n2d55g65_tnn3b1pw0000gn/T/ipykernel_66104/3176939844.py:3: SettingWithCopyWarning: \n",
      "A value is trying to be set on a copy of a slice from a DataFrame.\n",
      "Try using .loc[row_indexer,col_indexer] = value instead\n",
      "\n",
      "See the caveats in the documentation: https://pandas.pydata.org/pandas-docs/stable/user_guide/indexing.html#returning-a-view-versus-a-copy\n",
      "  x[f\"map{i}\"] = crime_type[col]\n",
      "/var/folders/5r/pnlff12n2d55g65_tnn3b1pw0000gn/T/ipykernel_66104/3176939844.py:3: SettingWithCopyWarning: \n",
      "A value is trying to be set on a copy of a slice from a DataFrame.\n",
      "Try using .loc[row_indexer,col_indexer] = value instead\n",
      "\n",
      "See the caveats in the documentation: https://pandas.pydata.org/pandas-docs/stable/user_guide/indexing.html#returning-a-view-versus-a-copy\n",
      "  x[f\"map{i}\"] = crime_type[col]\n",
      "/var/folders/5r/pnlff12n2d55g65_tnn3b1pw0000gn/T/ipykernel_66104/3176939844.py:3: SettingWithCopyWarning: \n",
      "A value is trying to be set on a copy of a slice from a DataFrame.\n",
      "Try using .loc[row_indexer,col_indexer] = value instead\n",
      "\n",
      "See the caveats in the documentation: https://pandas.pydata.org/pandas-docs/stable/user_guide/indexing.html#returning-a-view-versus-a-copy\n",
      "  x[f\"map{i}\"] = crime_type[col]\n"
     ]
    }
   ],
   "source": [
    "wanted = ['Description','Location Description','SocioEconomic-Status','dayofweek']\n",
    "for i, col in enumerate(wanted):\n",
    "    x[f\"map{i}\"] = crime_type[col]\n",
    "    \n"
   ]
  },
  {
   "cell_type": "code",
   "execution_count": 166,
   "id": "25c02f2e",
   "metadata": {},
   "outputs": [],
   "source": [
    "x = x.dropna()"
   ]
  },
  {
   "cell_type": "code",
   "execution_count": 174,
   "id": "f6fecd25",
   "metadata": {},
   "outputs": [],
   "source": [
    "desc_map = dict(x[['Description','map0']].values)\n",
    "loc_map = dict(x[['Location Description','map1']].values)\n",
    "soc_map = dict(x[['SocioEconomic-Status','map2']].values)\n",
    "day_map = dict(x[['dayofweek','map3']].values)"
   ]
  },
  {
   "cell_type": "code",
   "execution_count": 178,
   "id": "3adfdbea",
   "metadata": {},
   "outputs": [],
   "source": [
    "import pickle\n",
    "# save the dictionary to a file using pickle.dump()\n",
    "with open('desc_map.pkl', 'wb') as f:\n",
    "    pickle.dump(desc_map, f)\n",
    "with open('loc_map.pkl', 'wb') as f:\n",
    "    pickle.dump(loc_map, f)\n",
    "with open('soc_map.pkl', 'wb') as f:\n",
    "    pickle.dump(soc_map, f)\n",
    "with open('day_map.pkl', 'wb') as f:\n",
    "    pickle.dump(day_map, f)\n",
    "                \n",
    "                \n",
    "                \n"
   ]
  },
  {
   "cell_type": "code",
   "execution_count": 179,
   "id": "432e4af0",
   "metadata": {},
   "outputs": [],
   "source": [
    "with open('desc_map.pkl', 'rb') as f:\n",
    "    desc_map = pickle.load(f)\n",
    "with open('loc_map.pkl', 'rb') as f:\n",
    "    loc_map = pickle.load(f)\n",
    "with open('soc_map.pkl', 'rb') as f:\n",
    "    soc_map = pickle.load(f)\n",
    "with open('day_map.pkl', 'rb') as f:\n",
    "    day_map = pickle.load(f)\n",
    "\n",
    "\n"
   ]
  },
  {
   "cell_type": "code",
   "execution_count": 180,
   "id": "7df656e7",
   "metadata": {},
   "outputs": [
    {
     "data": {
      "text/plain": [
       "{'Mon': 0.0,\n",
       " 'Tue': 1.0,\n",
       " 'Wed': 2.0,\n",
       " 'Fri': 3.0,\n",
       " 'Sat': 4.0,\n",
       " 'Sun': 5.0,\n",
       " 'Thu': 6.0}"
      ]
     },
     "execution_count": 180,
     "metadata": {},
     "output_type": "execute_result"
    }
   ],
   "source": []
  },
  {
   "cell_type": "code",
   "execution_count": 181,
   "id": "42663a5f",
   "metadata": {},
   "outputs": [
    {
     "data": {
      "text/plain": [
       "{'FROM BUILDING': 0.0,\n",
       " 'DOMESTIC BATTERY SIMPLE': 1.0,\n",
       " 'POCKET-PICKING': 2.0,\n",
       " 'TO VEHICLE': 3.0,\n",
       " 'POSS: CRACK': 4.0,\n",
       " 'AGGRAVATED: HANDGUN': 5.0,\n",
       " 'TO PROPERTY': 6.0,\n",
       " 'POSS: HEROIN(WHITE)': 7.0,\n",
       " 'ARMED: HANDGUN': 8.0,\n",
       " '$500 AND UNDER': 9.0,\n",
       " 'SIMPLE': 10.0,\n",
       " 'OVER $500': 11.0,\n",
       " 'AGGRAVATED': 12.0,\n",
       " 'RETAIL THEFT': 13.0,\n",
       " 'AGG: HANDS/FIST/FEET NO/MINOR INJURY': 14.0,\n",
       " 'VEHICULAR HIJACKING': 15.0,\n",
       " 'TO CITY OF CHICAGO PROPERTY': 16.0,\n",
       " 'AGGRAVATED DOMESTIC BATTERY: HANDS/FIST/FEET SERIOUS INJURY': 17.0,\n",
       " 'STRONGARM - NO WEAPON': 18.0,\n",
       " 'ARMED:KNIFE/CUTTING INSTRUMENT': 19.0,\n",
       " 'POSS: COCAINE': 20.0,\n",
       " 'AGGRAVATED DOMESTIC BATTERY: OTHER DANG WEAPON': 21.0,\n",
       " 'AGGRAVATED: OTHER DANG WEAPON': 22.0,\n",
       " 'POSS: SYNTHETIC DRUGS': 23.0,\n",
       " 'AGGRAVATED DOMESTIC BATTERY: KNIFE/CUTTING INST': 24.0,\n",
       " 'ATTEMPT: ARMED-HANDGUN': 25.0,\n",
       " 'CRIMINAL DEFACEMENT': 26.0,\n",
       " 'POSS: CANNABIS MORE THAN 30GMS': 27.0,\n",
       " 'PRO EMP HANDS NO/MIN INJURY': 28.0,\n",
       " 'POSS: CANNABIS 30GMS OR LESS': 29.0,\n",
       " 'AGGRAVATED VEHICULAR HIJACKING': 30.0,\n",
       " 'FOUND SUSPECT NARCOTICS': 31.0,\n",
       " 'AGG PO HANDS NO/MIN INJURY': 32.0,\n",
       " 'PURSE-SNATCHING': 33.0,\n",
       " 'AGGRAVATED - HANDGUN': 34.0,\n",
       " 'AGG: HANDS/FIST/FEET SERIOUS INJURY': 35.0,\n",
       " 'POSSESSION OF DRUG EQUIPMENT': 36.0,\n",
       " 'AGGRAVATED OF A CHILD': 37.0,\n",
       " 'AGGRAVATED OF A SENIOR CITIZEN': 38.0,\n",
       " 'MANU/DELIVER: HEROIN (WHITE)': 39.0,\n",
       " 'ATTEMPT: AGGRAVATED': 40.0,\n",
       " 'AGGRAVATED PO: OTHER DANG WEAP': 41.0,\n",
       " 'MANU/DELIVER:PCP': 42.0,\n",
       " 'ATTEMPT: STRONGARM-NO WEAPON': 43.0,\n",
       " 'MANU/DEL:CANNABIS OVER 10 GMS': 44.0,\n",
       " 'POSS: METHAMPHETAMINES': 45.0,\n",
       " 'AGGRAVATED - HANDS, FISTS, FEET, SERIOUS INJURY': 46.0,\n",
       " 'SOLICIT NARCOTICS ON PUBLICWAY': 47.0,\n",
       " 'TO STATE SUP PROP': 48.0,\n",
       " 'ARMED - HANDGUN': 49.0,\n",
       " 'AGGRAVATED:KNIFE/CUTTING INSTR': 50.0,\n",
       " 'STRONG ARM - NO WEAPON': 51.0,\n",
       " 'ARMED: OTHER FIREARM': 52.0,\n",
       " 'ATTEMPT: ARMED-KNIFE/CUT INSTR': 53.0,\n",
       " 'INSTITUTIONAL VANDALISM': 54.0,\n",
       " 'POSS: PCP': 55.0,\n",
       " 'AGG. DOMESTIC BATTERY - HANDS, FISTS, FEET, SERIOUS INJURY': 56.0,\n",
       " 'POSS: HEROIN(BRN/TAN)': 57.0,\n",
       " 'AGGRAVATED DOMESTIC BATTERY - OTHER DANGEROUS WEAPON': 58.0,\n",
       " 'POSS: AMPHETAMINES': 59.0,\n",
       " 'AGGRAVATED - OTHER DANGEROUS WEAPON': 60.0,\n",
       " 'AGGRAVATED OF AN UNBORN CHILD': 61.0,\n",
       " 'POSSESS - PCP': 62.0,\n",
       " 'AGGRAVATED - HANDS, FISTS, FEET, NO / MINOR INJURY': 63.0,\n",
       " 'AGGRAVATED P.O. - HANDS, FISTS, FEET, NO / MINOR INJURY': 64.0,\n",
       " 'OF AN UNBORN CHILD': 65.0,\n",
       " 'MANUFACTURE / DELIVER - CRACK': 66.0,\n",
       " 'POSSESS - COCAINE': 67.0,\n",
       " 'AGGRAVATED - KNIFE / CUTTING INSTRUMENT': 68.0,\n",
       " 'MANUFACTURE / DELIVER - COCAINE': 69.0,\n",
       " 'MANUFACTURE / DELIVER - CANNABIS OVER 10 GRAMS': 70.0,\n",
       " 'POSSESS - CANNABIS 30 GRAMS OR LESS': 71.0,\n",
       " 'POSSESS - HEROIN (WHITE)': 72.0,\n",
       " 'POSSESS - CRACK': 73.0,\n",
       " 'POSSESS - HALLUCINOGENS': 74.0,\n",
       " 'AGGRAVATED DOMESTIC BATTERY - KNIFE / CUTTING INSTRUMENT': 75.0,\n",
       " 'POSSESS - SYNTHETIC DRUGS': 76.0,\n",
       " 'AGGRAVATED POLICE OFFICER - OTHER DANGEROUS WEAPON': 77.0,\n",
       " 'ARMED - KNIFE / CUTTING INSTRUMENT': 78.0,\n",
       " 'ATTEMPT AGGRAVATED': 79.0,\n",
       " 'ATTEMPT ARMED - HANDGUN': 80.0,\n",
       " 'ATTEMPT THEFT': 81.0,\n",
       " 'MANUFACTURE / DELIVER -  HEROIN (WHITE)': 82.0,\n",
       " 'ARMED - OTHER FIREARM': 83.0,\n",
       " 'POSSESS - CANNABIS MORE THAN 30 GRAMS': 84.0,\n",
       " 'POSSESS - BARBITURATES': 85.0,\n",
       " 'AGGRAVATED PROTECTED EMPLOYEE - OTHER FIREARM': 86.0,\n",
       " 'AGGRAVATED DOMESTIC BATTERY: HANDGUN': 87.0,\n",
       " 'MANU/DEL:CANNABIS 10GM OR LESS': 88.0,\n",
       " 'POSSESSION: SYNTHETIC MARIJUANA': 89.0,\n",
       " 'MANU/DELIVER:CRACK': 90.0,\n",
       " 'MANU/DELIVER:COCAINE': 91.0,\n",
       " 'FORFEIT PROPERTY': 92.0,\n",
       " 'POSS: BARBITUATES': 93.0,\n",
       " 'FROM COIN-OP MACHINE/DEVICE': 94.0,\n",
       " 'ARMED - OTHER DANGEROUS WEAPON': 95.0,\n",
       " 'SOLICIT NARCOTICS ON PUBLIC WAY': 96.0,\n",
       " 'ATTEMPT ARMED - OTHER DANGEROUS WEAPON': 97.0,\n",
       " 'TO STATE SUPPORTED PROPERTY': 98.0,\n",
       " 'PROTECTED EMPLOYEE - HANDS, FISTS, FEET, NO / MINOR INJURY': 99.0,\n",
       " 'ATTEMPT STRONG ARM - NO WEAPON': 100.0,\n",
       " 'POSSESS - AMPHETAMINES': 101.0,\n",
       " 'ARMED: OTHER DANGEROUS WEAPON': 102.0,\n",
       " 'MANU/DELIVER:BARBITUATES': 103.0,\n",
       " 'MANU/DELIVER: METHAMPHETAMINES': 104.0,\n",
       " 'MANU/DELIVER: HEROIN(BRN/TAN)': 105.0,\n",
       " 'ATTEMPT: ARMED-OTHER FIREARM': 106.0,\n",
       " 'MANU/DELIVER: HALLUCINOGEN': 107.0,\n",
       " 'AGGRAVATED DOMESTIC BATTERY: OTHER DANGEROUS WEAPON': 108.0,\n",
       " 'POSS: HALLUCINOGENS': 109.0,\n",
       " 'AGG PO HANDS ETC SERIOUS INJ': 110.0,\n",
       " 'MANUFACTURE / DELIVER - HEROIN (TAN / BROWN TAR)': 111.0,\n",
       " 'AGG. PROTECTED EMPLOYEE - HANDS, FISTS, FEET, SERIOUS INJURY': 112.0,\n",
       " 'ATTEMPT ARMED - KNIFE / CUTTING INSTRUMENT': 113.0,\n",
       " 'DELIVERY CONTAINER THEFT': 114.0,\n",
       " 'AGG PRO.EMP: OTHER DANG WEAPON': 115.0,\n",
       " 'AGGRAVATED PROTECTED EMPLOYEE - OTHER DANGEROUS WEAPON': 116.0,\n",
       " 'MANUFACTURE / DELIVER - SYNTHETIC DRUGS': 117.0,\n",
       " 'AGGRAVATED DOMESTIC BATTERY - HANDGUN': 118.0,\n",
       " 'POSS: HEROIN(BLACK TAR)': 119.0,\n",
       " 'AGGRAVATED P.O. - HANDS, FISTS, FEET, SERIOUS INJURY': 120.0,\n",
       " 'TO FIRE FIGHT.APP.EQUIP': 121.0,\n",
       " 'ATTEMPT ARMED - OTHER FIREARM': 122.0,\n",
       " 'ATTEMPT: ARMED-OTHER DANG WEAP': 123.0,\n",
       " 'OF UNBORN CHILD': 124.0,\n",
       " 'ATTEMPT POSSESSION NARCOTICS': 125.0,\n",
       " 'AGGRAVATED PO: KNIFE/CUT INSTR': 126.0,\n",
       " 'MANUFACTURE / DELIVER - HALLUCINOGEN': 127.0,\n",
       " 'POSSESS - METHAMPHETAMINE': 128.0,\n",
       " 'ALTER / FORGE PRESCRIPTION': 129.0,\n",
       " 'SALE / DELIVER - DRUG PARAPHERNALIA': 130.0,\n",
       " 'ALTER/FORGE PRESCRIPTION': 131.0,\n",
       " 'MANU/DELIVER:SYNTHETIC DRUGS': 132.0,\n",
       " 'FROM COIN-OPERATED MACHINE OR DEVICE': 133.0,\n",
       " 'MANUFACTURE / DELIVER - METHAMPHETAMINE': 134.0,\n",
       " 'CRIMINAL DRUG CONSPIRACY': 135.0,\n",
       " 'AGG PRO EMP HANDS SERIOUS INJ': 136.0,\n",
       " 'DELIVER CANNABIS TO PERSON UNDER 18': 137.0,\n",
       " 'AGGRAVATED - OTHER FIREARM': 138.0,\n",
       " 'POSSESS - HEROIN (TAN / BROWN TAR)': 139.0,\n",
       " 'AGGRAVATED: OTHER FIREARM': 140.0,\n",
       " 'POS: HYPODERMIC NEEDLE': 141.0,\n",
       " 'MANUFACTURE / DELIVER - CANNABIS 10 GRAMS OR LESS': 142.0,\n",
       " 'MANUFACTURE / DELIVER - PCP': 143.0,\n",
       " 'MANU/DELIVER:AMPHETAMINES': 144.0,\n",
       " 'POSS: LOOK-ALIKE DRUGS': 145.0,\n",
       " 'STRONGARM: NO WEAPON': 146.0,\n",
       " 'AGGRAVATED POLICE OFFICER - HANDGUN': 147.0,\n",
       " 'CONT SUBS:FAIL TO MAINT RECORD': 148.0,\n",
       " 'POSSESS - HEROIN (BLACK TAR)': 149.0,\n",
       " 'AGGRAVATED OF A UNBORN CHILD': 150.0,\n",
       " 'AGG PRO.EMP:KNIFE/CUTTING INST': 151.0,\n",
       " 'AGGRAVATED: OTHER DANGEROUS WEAPON': 152.0,\n",
       " 'MANU/POSS. W/INTENT TO DELIVER: SYNTHETIC MARIJUANA': 153.0,\n",
       " 'DEL CONT SUBS TO PERSON <18': 154.0,\n",
       " 'MANUFACTURE / DELIVER - AMPHETAMINES': 155.0,\n",
       " 'AGGRAVATED DOMESTIC BATTERY: KNIFE / CUTTING INSTSTRUMENT': 156.0,\n",
       " 'AGGRAVATED PROTECTED EMPLOYEE - KNIFE / CUTTING INSTRUMENT': 157.0,\n",
       " 'ATTEMPT STRONG ARM: NO WEAPON': 158.0,\n",
       " 'ATTEMPT ARMED: HANDGUN': 159.0,\n",
       " 'AGGRAVATED POLICE OFFICER - KNIFE / CUTTING INSTRUMENT': 160.0,\n",
       " 'SALE/DEL DRUG PARAPHERNALIA': 161.0,\n",
       " 'DELIVER CANNABIS TO PERSON <18': 162.0,\n",
       " 'AGGRAVATED: HANDS / FIST / FEET NO / MINOR INJURY': 163.0,\n",
       " 'MANUFACTURE / DELIVER - BARBITURATES': 164.0,\n",
       " 'PROTECTED EMPLOYEE: HANDS NO / MIN INJURY': 165.0,\n",
       " 'AGGRAVATED: HANDS / FIST / FEET SERIOUS INJURY': 166.0,\n",
       " 'AGGRAVATED: KNIFE / CUTTING INSTRUMENT': 167.0,\n",
       " 'AGGRAVATED PO: OTHER DANGEROUS WEAPON': 168.0,\n",
       " 'AGGRAVATED PO: HANDGUN': 169.0,\n",
       " 'AGGRAVATED POLICE OFFICER - OTHER FIREARM': 170.0,\n",
       " 'MANUFACTURE / DELIVER - HEROIN (BLACK TAR)': 171.0,\n",
       " 'CANNABIS PLANT': 172.0,\n",
       " 'AGGRAVATED DOMESTIC BATTERY - OTHER FIREARM': 173.0,\n",
       " 'MANU/DELIVER:LOOK-ALIKE DRUG': 174.0,\n",
       " 'MANUFACTURE / DELIVER - SYNTHETIC MARIJUANA': 175.0,\n",
       " 'ATTEMPT POSSESSION CANNABIS': 176.0,\n",
       " 'POSSESS - HYPODERMIC NEEDLE': 177.0,\n",
       " 'MANU/DELIVER:HEROIN(BLACK TAR)': 178.0,\n",
       " 'AGGRAVATED PROTECTED EMPLOYEE - HANDGUN': 179.0,\n",
       " 'LIBRARY VANDALISM': 180.0,\n",
       " 'DELIVER CONTROLLED SUBSTANCES TO PERSON UNDER 18': 181.0}"
      ]
     },
     "execution_count": 181,
     "metadata": {},
     "output_type": "execute_result"
    }
   ],
   "source": [
    "desc_map"
   ]
  },
  {
   "cell_type": "code",
   "execution_count": 190,
   "id": "f5aefa74",
   "metadata": {},
   "outputs": [
    {
     "data": {
      "text/plain": [
       "{'Mon': 0.0,\n",
       " 'Tue': 1.0,\n",
       " 'Wed': 2.0,\n",
       " 'Fri': 3.0,\n",
       " 'Sat': 4.0,\n",
       " 'Sun': 5.0,\n",
       " 'Thu': 6.0}"
      ]
     },
     "execution_count": 190,
     "metadata": {},
     "output_type": "execute_result"
    }
   ],
   "source": [
    "day_map"
   ]
  },
  {
   "cell_type": "code",
   "execution_count": 175,
   "id": "a1ffc021",
   "metadata": {},
   "outputs": [
    {
     "data": {
      "text/plain": [
       "Arrest                        False\n",
       "Description                  SIMPLE\n",
       "Community Area                   30\n",
       "Location Description      APARTMENT\n",
       "Domestic                      False\n",
       "SocioEconomic-Status    High Income\n",
       "dayofweek                       Mon\n",
       "Name: 0, dtype: object"
      ]
     },
     "execution_count": 175,
     "metadata": {},
     "output_type": "execute_result"
    }
   ],
   "source": [
    "test = crimes[features].iloc[0]\n",
    "test"
   ]
  },
  {
   "cell_type": "code",
   "execution_count": 204,
   "id": "cb95cd0d",
   "metadata": {},
   "outputs": [],
   "source": [
    "input_list = np.array([False, 10.0, 30, 0.0, False , 2.0, 0.0 ]"
   ]
  },
  {
   "cell_type": "code",
   "execution_count": 206,
   "id": "73f189b9",
   "metadata": {},
   "outputs": [
    {
     "name": "stdout",
     "output_type": "stream",
     "text": [
      "1/1 [==============================] - 0s 19ms/step\n"
     ]
    },
    {
     "data": {
      "text/plain": [
       "array([[2.4630709e-02, 6.7587388e-07, 5.1005356e-02, 9.2435932e-01,\n",
       "        3.9184661e-06]], dtype=float32)"
      ]
     },
     "execution_count": 206,
     "metadata": {},
     "output_type": "execute_result"
    }
   ],
   "source": [
    "model.predict(input_list.reshape(-1,7))"
   ]
  },
  {
   "cell_type": "code",
   "execution_count": null,
   "id": "7d33e3fd",
   "metadata": {},
   "outputs": [],
   "source": []
  }
 ],
 "metadata": {
  "kernelspec": {
   "display_name": "Python [conda env:tf-metal] *",
   "language": "python",
   "name": "conda-env-tf-metal-py"
  },
  "language_info": {
   "codemirror_mode": {
    "name": "ipython",
    "version": 3
   },
   "file_extension": ".py",
   "mimetype": "text/x-python",
   "name": "python",
   "nbconvert_exporter": "python",
   "pygments_lexer": "ipython3",
   "version": "3.10.10"
  }
 },
 "nbformat": 4,
 "nbformat_minor": 5
}
